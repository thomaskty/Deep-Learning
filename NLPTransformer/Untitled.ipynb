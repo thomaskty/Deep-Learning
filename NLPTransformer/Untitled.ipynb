{
 "cells": [
  {
   "cell_type": "code",
   "execution_count": 5,
   "id": "2eeb03f9",
   "metadata": {},
   "outputs": [],
   "source": [
    "import torch\n",
    "import torch.nn as nn"
   ]
  },
  {
   "cell_type": "code",
   "execution_count": 6,
   "id": "46610c78",
   "metadata": {},
   "outputs": [],
   "source": [
    "batch_size,token_size,embedding_size = 2,3,4"
   ]
  },
  {
   "cell_type": "code",
   "execution_count": 13,
   "id": "2efb8335",
   "metadata": {},
   "outputs": [],
   "source": [
    "torch.manual_seed(101)\n",
    "tensor = torch.randn(batch_size,token_size,embedding_size)"
   ]
  },
  {
   "cell_type": "code",
   "execution_count": 14,
   "id": "92086685",
   "metadata": {},
   "outputs": [
    {
     "data": {
      "text/plain": [
       "tensor([[[-0.6028, -0.1208, -0.4323,  1.8811],\n",
       "         [-0.7158,  0.0026,  0.2056,  0.5626],\n",
       "         [-1.0023, -0.5726, -0.4914, -0.2580]],\n",
       "\n",
       "        [[-0.4303, -1.5510, -0.2353,  0.0139],\n",
       "         [ 0.8110,  1.0818, -0.0259,  0.3774],\n",
       "         [-0.4152, -0.7236, -1.1235,  1.7995]]])"
      ]
     },
     "execution_count": 14,
     "metadata": {},
     "output_type": "execute_result"
    }
   ],
   "source": [
    "tensor"
   ]
  },
  {
   "cell_type": "code",
   "execution_count": 25,
   "id": "b61d2189",
   "metadata": {},
   "outputs": [
    {
     "data": {
      "text/plain": [
       "LayerNorm((4,), eps=1e-05, elementwise_affine=True)"
      ]
     },
     "execution_count": 25,
     "metadata": {},
     "output_type": "execute_result"
    }
   ],
   "source": [
    "torch.manual_seed(101)\n",
    "layer_norm = nn.LayerNorm(embedding_size)\n",
    "layer_norm"
   ]
  },
  {
   "cell_type": "code",
   "execution_count": 40,
   "id": "acd3439b",
   "metadata": {},
   "outputs": [
    {
     "data": {
      "text/plain": [
       "tensor([[[-0.7868, -0.3032, -0.6157,  1.7058],\n",
       "         [-1.5639, -0.0239,  0.4113,  1.1766],\n",
       "         [-1.5645,  0.0315,  0.3330,  1.2000]],\n",
       "\n",
       "        [[ 0.2011, -1.6710,  0.5268,  0.9431],\n",
       "         [ 0.5924,  1.2343, -1.3913, -0.4354],\n",
       "         [-0.2641, -0.5361, -0.8888,  1.6890]]],\n",
       "       grad_fn=<NativeLayerNormBackward0>)"
      ]
     },
     "execution_count": 40,
     "metadata": {},
     "output_type": "execute_result"
    }
   ],
   "source": [
    "layer_norm(tensor)"
   ]
  },
  {
   "cell_type": "code",
   "execution_count": 27,
   "id": "0ca207d1",
   "metadata": {},
   "outputs": [
    {
     "data": {
      "text/plain": [
       "Parameter containing:\n",
       "tensor([1., 1., 1., 1.], requires_grad=True)"
      ]
     },
     "execution_count": 27,
     "metadata": {},
     "output_type": "execute_result"
    }
   ],
   "source": [
    "layer_norm.weight"
   ]
  },
  {
   "cell_type": "code",
   "execution_count": 28,
   "id": "13fe4cbc",
   "metadata": {},
   "outputs": [
    {
     "data": {
      "text/plain": [
       "Parameter containing:\n",
       "tensor([0., 0., 0., 0.], requires_grad=True)"
      ]
     },
     "execution_count": 28,
     "metadata": {},
     "output_type": "execute_result"
    }
   ],
   "source": [
    "layer_norm.bias"
   ]
  },
  {
   "cell_type": "code",
   "execution_count": 44,
   "id": "e0ebcf69",
   "metadata": {},
   "outputs": [
    {
     "data": {
      "text/plain": [
       "tensor([[[-0.5165, -0.8359, -0.3338,  0.9475],\n",
       "         [ 0.0476,  0.5422,  0.0898,  0.4700],\n",
       "         [-0.7087, -0.6481, -0.8075,  0.7707]]])"
      ]
     },
     "execution_count": 44,
     "metadata": {},
     "output_type": "execute_result"
    }
   ],
   "source": [
    "tensor.mean(0, keepdim=True) # batch mean"
   ]
  },
  {
   "cell_type": "code",
   "execution_count": 102,
   "id": "3c43906e",
   "metadata": {},
   "outputs": [],
   "source": [
    "class LayerNorm:\n",
    "    def __init__(self, dim, eps=1e-5, momentum=0.1):\n",
    "        self.eps = eps\n",
    "        self.gamma = torch.ones(dim)\n",
    "        self.beta = torch.zeros(dim)\n",
    "    \n",
    "    def __call__(self, x):\n",
    "        # calculate the forward pass\n",
    "        xmean = x.mean(2, keepdim=True) # batch mean\n",
    "        xvar = x.var(2, keepdim=True) # batch variance\n",
    "        xhat = (x - xmean) / torch.sqrt(xvar + self.eps) # normalize to unit variance\n",
    "        self.out = self.gamma * xhat + self.beta\n",
    "        return self.out\n",
    "    \n",
    "    def parameters(self):\n",
    "        return [self.gamma, self.beta]"
   ]
  },
  {
   "cell_type": "code",
   "execution_count": 103,
   "id": "ddf56ca0",
   "metadata": {},
   "outputs": [],
   "source": [
    "layernorm = LayerNorm(embedding_size)"
   ]
  },
  {
   "cell_type": "code",
   "execution_count": 104,
   "id": "85b4907f",
   "metadata": {},
   "outputs": [
    {
     "data": {
      "text/plain": [
       "(tensor([[[ 0.1813],\n",
       "          [ 0.0137],\n",
       "          [-0.5811]],\n",
       " \n",
       "         [[-0.5507],\n",
       "          [ 0.5611],\n",
       "          [-0.1157]]]),\n",
       " tensor([[[-0.6814, -0.2626, -0.5333,  1.4773],\n",
       "          [-1.3544, -0.0207,  0.3562,  1.0190],\n",
       "          [-1.3549,  0.0273,  0.2884,  1.0393]],\n",
       " \n",
       "         [[ 0.1741, -1.4472,  0.4563,  0.8168],\n",
       "          [ 0.5131,  1.0689, -1.2049, -0.3771],\n",
       "          [-0.2287, -0.4643, -0.7697,  1.4627]]]))"
      ]
     },
     "execution_count": 104,
     "metadata": {},
     "output_type": "execute_result"
    }
   ],
   "source": [
    "layernorm(tensor)"
   ]
  },
  {
   "cell_type": "code",
   "execution_count": 95,
   "id": "6bbc1252",
   "metadata": {},
   "outputs": [
    {
     "data": {
      "text/plain": [
       "tensor([[[ 0.1813],\n",
       "         [ 0.0137],\n",
       "         [-0.5811]],\n",
       "\n",
       "        [[-0.5507],\n",
       "         [ 0.5611],\n",
       "         [-0.1157]]])"
      ]
     },
     "execution_count": 95,
     "metadata": {},
     "output_type": "execute_result"
    }
   ],
   "source": [
    "tensor.mean(2,keepdim=True)"
   ]
  },
  {
   "cell_type": "code",
   "execution_count": 105,
   "id": "326673ac",
   "metadata": {},
   "outputs": [
    {
     "data": {
      "text/plain": [
       "4"
      ]
     },
     "execution_count": 105,
     "metadata": {},
     "output_type": "execute_result"
    }
   ],
   "source": [
    "tensor.size(-1)"
   ]
  },
  {
   "cell_type": "code",
   "execution_count": 107,
   "id": "83710f37",
   "metadata": {},
   "outputs": [
    {
     "data": {
      "text/plain": [
       "torch.Size([2, 3, 4])"
      ]
     },
     "execution_count": 107,
     "metadata": {},
     "output_type": "execute_result"
    }
   ],
   "source": [
    "tensor.size()"
   ]
  },
  {
   "cell_type": "code",
   "execution_count": 108,
   "id": "d29a75b2",
   "metadata": {},
   "outputs": [
    {
     "data": {
      "text/plain": [
       "torch.Size([2, 3, 4])"
      ]
     },
     "execution_count": 108,
     "metadata": {},
     "output_type": "execute_result"
    }
   ],
   "source": [
    "tensor.shape"
   ]
  },
  {
   "cell_type": "code",
   "execution_count": 112,
   "id": "5e902531",
   "metadata": {},
   "outputs": [
    {
     "data": {
      "text/plain": [
       "3"
      ]
     },
     "execution_count": 112,
     "metadata": {},
     "output_type": "execute_result"
    }
   ],
   "source": [
    "tensor.dim()"
   ]
  },
  {
   "cell_type": "code",
   "execution_count": null,
   "id": "4b0576f4",
   "metadata": {},
   "outputs": [],
   "source": []
  }
 ],
 "metadata": {
  "kernelspec": {
   "display_name": "Python 3 (ipykernel)",
   "language": "python",
   "name": "python3"
  },
  "language_info": {
   "codemirror_mode": {
    "name": "ipython",
    "version": 3
   },
   "file_extension": ".py",
   "mimetype": "text/x-python",
   "name": "python",
   "nbconvert_exporter": "python",
   "pygments_lexer": "ipython3",
   "version": "3.10.9"
  }
 },
 "nbformat": 4,
 "nbformat_minor": 5
}
