{
 "cells": [
  {
   "cell_type": "markdown",
   "metadata": {
    "id": "G4T6QHHOnfcQ"
   },
   "source": [
    "# Part 1: Build CpG Detector\n",
    "\n",
    "Here we have a simple problem, given a DNA sequence (of N, A, C, G, T), count the number of CpGs in the sequence (consecutive CGs).\n",
    "\n",
    "We have defined a few helper functions / parameters for performing this task.\n",
    "\n",
    "We need you to build a LSTM model and train it to complish this task in PyTorch.\n",
    "\n",
    "A good solution will be a model that can be trained, with high confidence in correctness."
   ]
  },
  {
   "cell_type": "code",
   "execution_count": 1,
   "metadata": {
    "id": "mfS4cLmZD2oB"
   },
   "outputs": [],
   "source": [
    "from typing import Sequence\n",
    "from functools import partial\n",
    "import random\n",
    "from torch.autograd import Variable\n",
    "import torch\n",
    "import numpy as np\n",
    "import random\n",
    "import torch.nn as nn\n",
    "import torch.optim as optim\n",
    "from torch.utils.data import Dataset, DataLoader"
   ]
  },
  {
   "cell_type": "code",
   "execution_count": 2,
   "metadata": {
    "id": "_f-brPAvKvTn"
   },
   "outputs": [],
   "source": [
    "# DO NOT CHANGE HERE\n",
    "def set_seed(seed=13):\n",
    "    random.seed(seed)\n",
    "    np.random.seed(seed)\n",
    "    torch.manual_seed(seed)\n",
    "    if torch.cuda.is_available():\n",
    "        torch.cuda.manual_seed_all(seed)\n",
    "\n",
    "set_seed(13)\n",
    "\n",
    "# Use this for getting x label\n",
    "def rand_sequence(n_seqs: int, seq_len: int=128) -> Sequence[int]:\n",
    "    for i in range(n_seqs):\n",
    "        yield [random.randint(0, 4) for _ in range(seq_len)]\n",
    "\n",
    "# Use this for getting y label\n",
    "def count_cpgs(seq: str) -> int:\n",
    "    cgs = 0\n",
    "    for i in range(0, len(seq) - 1):\n",
    "        dimer = seq[i:i+2]\n",
    "        # note that seq is a string, not a list\n",
    "        if dimer == \"CG\":\n",
    "            cgs += 1\n",
    "    return cgs\n",
    "\n",
    "# Alphabet helpers   \n",
    "alphabet = 'NACGT'\n",
    "dna2int = { a: i for a, i in zip(alphabet, range(5))}\n",
    "int2dna = { i: a for a, i in zip(alphabet, range(5))}\n",
    "\n",
    "intseq_to_dnaseq = partial(map, int2dna.get)\n",
    "dnaseq_to_intseq = partial(map, dna2int.get)"
   ]
  },
  {
   "cell_type": "code",
   "execution_count": 3,
   "metadata": {},
   "outputs": [
    {
     "data": {
      "text/plain": [
       "{0: 'N', 1: 'A', 2: 'C', 3: 'G', 4: 'T'}"
      ]
     },
     "execution_count": 3,
     "metadata": {},
     "output_type": "execute_result"
    }
   ],
   "source": [
    "int2dna"
   ]
  },
  {
   "cell_type": "code",
   "execution_count": 4,
   "metadata": {},
   "outputs": [
    {
     "data": {
      "text/plain": [
       "{'N': 0, 'A': 1, 'C': 2, 'G': 3, 'T': 4}"
      ]
     },
     "execution_count": 4,
     "metadata": {},
     "output_type": "execute_result"
    }
   ],
   "source": [
    "dna2int"
   ]
  },
  {
   "cell_type": "code",
   "execution_count": 5,
   "metadata": {
    "colab": {
     "base_uri": "https://localhost:8080/"
    },
    "executionInfo": {
     "elapsed": 383,
     "status": "ok",
     "timestamp": 1651686469847,
     "user": {
      "displayName": "Ylex",
      "userId": "01820639168093643789"
     },
     "user_tz": 240
    },
    "id": "VK9Qg5GHYxOb",
    "outputId": "0a00bbb6-d9ac-4cf8-ed84-b55b335d7f51"
   },
   "outputs": [],
   "source": [
    "# we prepared two datasets for training and evaluation\n",
    "# training data scale we set to 2048\n",
    "# we test on 512\n",
    "set_seed(13)\n",
    "def prepare_data(num_samples=100):\n",
    "    # prepared the training and test data\n",
    "    # you need to call rand_sequence and count_cpgs here to create the dataset\n",
    "    # step 1\n",
    "    X_dna_seqs_train = list(rand_sequence(num_samples))\n",
    "    \"\"\"\n",
    "    hint:\n",
    "        1. You can check X_dna_seqs_train by print, the data is ids which is your training X \n",
    "        2. You first convert ids back to DNA sequence\n",
    "        3. Then you run count_cpgs which will yield CGs counts - this will be the labels (Y)\n",
    "    \"\"\"\n",
    "    #step2 : # use intseq_to_dnaseq here to convert ids back to DNA seqs \n",
    "    temp = [list(intseq_to_dnaseq(i)) for i in X_dna_seqs_train] \n",
    "    \n",
    "    #step3 : # use count_cpgs here to generate labels with temp generated in step2 \n",
    "    y_dna_seqs = [count_cpgs(''.join(i)) for i in temp]\n",
    "    return X_dna_seqs_train, y_dna_seqs\n",
    "    \n",
    "train_x, train_y = prepare_data(2048)\n",
    "test_x, test_y = prepare_data(512)"
   ]
  },
  {
   "cell_type": "code",
   "execution_count": 6,
   "metadata": {},
   "outputs": [],
   "source": [
    "from collections import Counter"
   ]
  },
  {
   "cell_type": "code",
   "execution_count": 7,
   "metadata": {},
   "outputs": [
    {
     "name": "stdout",
     "output_type": "stream",
     "text": [
      "Counter({5: 107, 4: 92, 6: 85, 3: 70, 7: 50, 2: 37, 8: 27, 9: 19, 1: 10, 10: 9, 11: 3, 0: 2, 12: 1})\n",
      "Counter({5: 396, 4: 378, 6: 316, 3: 271, 7: 236, 2: 154, 8: 139, 9: 64, 10: 37, 1: 37, 0: 8, 11: 7, 12: 5})\n"
     ]
    }
   ],
   "source": [
    "counter_test = Counter(test_y)\n",
    "print(counter_test)\n",
    "counter_train = Counter(train_y)\n",
    "print(counter_train)"
   ]
  },
  {
   "cell_type": "code",
   "execution_count": 8,
   "metadata": {},
   "outputs": [],
   "source": [
    "# create data loader\n",
    "class DNASeqData(Dataset):\n",
    "    def __init__(self, X_data, y_data):\n",
    "        self.X_data = X_data\n",
    "        self.y_data = y_data\n",
    "        \n",
    "    def __getitem__(self, index):\n",
    "        return self.X_data[index], self.y_data[index]\n",
    "        \n",
    "    def __len__ (self):\n",
    "        return len(self.X_data)\n",
    "\n",
    "train_x = np.array(train_x)\n",
    "train_y = np.array(train_y)\n",
    "test_x = np.array(test_x)\n",
    "test_y = np.array(test_y)\n",
    "\n",
    "train_dataset = DNASeqData(torch.from_numpy(train_x).float(), torch.from_numpy(train_y).float())\n",
    "test_dataset = DNASeqData(torch.from_numpy(test_x).float(), torch.from_numpy(test_y).float())  "
   ]
  },
  {
   "cell_type": "code",
   "execution_count": 9,
   "metadata": {},
   "outputs": [
    {
     "data": {
      "text/plain": [
       "array([ 0,  1,  2,  3,  4,  5,  6,  7,  8,  9, 10, 11, 12])"
      ]
     },
     "execution_count": 9,
     "metadata": {},
     "output_type": "execute_result"
    }
   ],
   "source": [
    "np.unique(test_y)"
   ]
  },
  {
   "cell_type": "code",
   "execution_count": 10,
   "metadata": {},
   "outputs": [
    {
     "data": {
      "text/plain": [
       "array([ 0,  1,  2,  3,  4,  5,  6,  7,  8,  9, 10, 11, 12])"
      ]
     },
     "execution_count": 10,
     "metadata": {},
     "output_type": "execute_result"
    }
   ],
   "source": [
    "np.unique(train_y)"
   ]
  },
  {
   "cell_type": "code",
   "execution_count": 11,
   "metadata": {
    "id": "q8fgxrM0LnLy"
   },
   "outputs": [],
   "source": [
    "# Regression Model\n",
    "class LSTM(nn.Module):\n",
    "\n",
    "    def __init__(self, num_classes, input_size, hidden_size, num_layers):\n",
    "        super(LSTM, self).__init__()\n",
    "        \n",
    "        self.num_classes = num_classes\n",
    "        self.num_layers = num_layers\n",
    "        self.input_size = input_size\n",
    "        self.hidden_size = hidden_size\n",
    "        \n",
    "        self.lstm = nn.LSTM(input_size=input_size, hidden_size=hidden_size,\n",
    "                            num_layers=num_layers)\n",
    "        \n",
    "        self.fc = nn.Linear(hidden_size,self.num_classes)\n",
    "        self.relu = nn.ReLU()\n",
    "\n",
    "    def forward(self, x):\n",
    "        h_0 = Variable(torch.zeros(\n",
    "            self.num_layers, x.size(1), self.hidden_size))\n",
    "        \n",
    "        c_0 = Variable(torch.zeros(\n",
    "            self.num_layers, x.size(1), self.hidden_size))\n",
    "        \n",
    "        # Propagate input through LSTM\n",
    "        ula, (h_out, _) = self.lstm(x, (h_0, c_0))\n",
    "        \n",
    "        \n",
    "        out = self.fc(h_out)\n",
    "        out = self.relu(out)\n",
    "        \n",
    "        return out"
   ]
  },
  {
   "cell_type": "code",
   "execution_count": 12,
   "metadata": {},
   "outputs": [],
   "source": [
    "num_epochs = 25 \n",
    "learning_rate = 0.01\n",
    "\n",
    "input_size = 128\n",
    "hidden_size = 64\n",
    "num_layers = 1\n",
    "num_classes = 1\n",
    "batch_size = 16\n",
    "\n",
    "# creatin the torch data loader class for train and test \n",
    "train_data_loader = DataLoader(dataset=train_dataset, batch_size=batch_size, shuffle=True)\n",
    "test_data_loader = DataLoader(dataset=test_dataset, batch_size=batch_size)\n",
    "\n",
    "lstm = LSTM(num_classes, input_size, hidden_size, num_layers)\n",
    "criterion = torch.nn.MSELoss()    # mean-squared error for regression\n",
    "optimizer = torch.optim.Adam(lstm.parameters(), lr=learning_rate)"
   ]
  },
  {
   "cell_type": "code",
   "execution_count": 13,
   "metadata": {},
   "outputs": [
    {
     "data": {
      "text/plain": [
       "LSTM(\n",
       "  (lstm): LSTM(128, 64)\n",
       "  (fc): Linear(in_features=64, out_features=1, bias=True)\n",
       "  (relu): ReLU()\n",
       ")"
      ]
     },
     "execution_count": 13,
     "metadata": {},
     "output_type": "execute_result"
    }
   ],
   "source": [
    "lstm"
   ]
  },
  {
   "cell_type": "code",
   "execution_count": 14,
   "metadata": {},
   "outputs": [
    {
     "name": "stdout",
     "output_type": "stream",
     "text": [
      "Epoch: 0, Train loss: 620.68102 Test loss : 133.03687\n",
      "Epoch: 1, Train loss: 543.11131 Test loss : 134.16153\n",
      "Epoch: 2, Train loss: 550.08045 Test loss : 133.13269\n",
      "Epoch: 3, Train loss: 541.78793 Test loss : 134.32213\n",
      "Epoch: 4, Train loss: 542.46090 Test loss : 133.09167\n",
      "Epoch: 5, Train loss: 548.09221 Test loss : 134.11192\n",
      "Epoch: 6, Train loss: 546.27604 Test loss : 133.02228\n",
      "Epoch: 7, Train loss: 554.22282 Test loss : 133.32539\n",
      "Epoch: 8, Train loss: 546.77179 Test loss : 136.41622\n",
      "Epoch: 9, Train loss: 549.60507 Test loss : 133.71894\n",
      "Epoch: 10, Train loss: 544.37285 Test loss : 134.76210\n",
      "Epoch: 11, Train loss: 546.67286 Test loss : 134.84589\n",
      "Epoch: 12, Train loss: 544.39637 Test loss : 133.54927\n",
      "Epoch: 13, Train loss: 543.21342 Test loss : 137.94013\n",
      "Epoch: 14, Train loss: 544.25411 Test loss : 133.08367\n",
      "Epoch: 15, Train loss: 546.59130 Test loss : 140.90837\n",
      "Epoch: 16, Train loss: 552.04740 Test loss : 135.45229\n",
      "Epoch: 17, Train loss: 544.02684 Test loss : 137.90903\n",
      "Epoch: 18, Train loss: 545.04974 Test loss : 136.10983\n",
      "Epoch: 19, Train loss: 552.14116 Test loss : 133.56199\n",
      "Epoch: 20, Train loss: 545.15665 Test loss : 134.80977\n",
      "Epoch: 21, Train loss: 546.02739 Test loss : 134.59277\n",
      "Epoch: 22, Train loss: 540.60333 Test loss : 133.04712\n",
      "Epoch: 23, Train loss: 543.47551 Test loss : 133.45249\n",
      "Epoch: 24, Train loss: 546.46213 Test loss : 133.02229\n"
     ]
    }
   ],
   "source": [
    "# Train the model\n",
    "for epoch in range(num_epochs):\n",
    "    EPOCH_LOSSES = 0 \n",
    "    for j,(x_train,y_train) in enumerate(train_data_loader):\n",
    "        x_train = x_train.unsqueeze(0)\n",
    "        outputs = lstm(x_train)\n",
    "        optimizer.zero_grad()\n",
    "        y_train = y_train.unsqueeze(0).unsqueeze(0).permute(0,2,1)\n",
    "        # print(outputs.shape,y_train.shape)\n",
    "        loss = criterion(outputs, y_train)\n",
    "        \n",
    "        test_loss_total = 0 \n",
    "        with torch.inference_mode():\n",
    "            test_loss_total = 0 \n",
    "            for j,(x_test,y_test) in enumerate(test_data_loader):\n",
    "                x_test = x_test.unsqueeze(0)\n",
    "                test_output = lstm(x_test)\n",
    "                y_test = y_test.unsqueeze(0).unsqueeze(0).permute(0,2,1)\n",
    "                # print(test_output.shape,y_test.shape)\n",
    "                test_loss = criterion(test_output,y_test)\n",
    "                test_loss_total+=test_loss.item()\n",
    "                \n",
    "        EPOCH_LOSSES+=loss.item() \n",
    "        loss.backward()\n",
    "    \n",
    "        optimizer.step()\n",
    "    if epoch % 1 == 0:\n",
    "        print(\"Epoch: %d, Train loss: %1.5f Test loss : %1.5f\"  % (epoch, EPOCH_LOSSES,test_loss_total)) "
   ]
  },
  {
   "cell_type": "code",
   "execution_count": 15,
   "metadata": {},
   "outputs": [],
   "source": [
    "def single_predict(test_sample):\n",
    "    with torch.inference_mode():\n",
    "        observation = torch.from_numpy(test_sample).float()\n",
    "        observation = observation.unsqueeze(0).unsqueeze(0)\n",
    "        # print(observation.shape)\n",
    "        observation_output = lstm(observation).item()\n",
    "        return observation_output"
   ]
  },
  {
   "cell_type": "code",
   "execution_count": 22,
   "metadata": {},
   "outputs": [
    {
     "data": {
      "text/plain": [
       "4.976344585418701"
      ]
     },
     "execution_count": 22,
     "metadata": {},
     "output_type": "execute_result"
    }
   ],
   "source": [
    "single_predict(train_x[10])"
   ]
  },
  {
   "cell_type": "code",
   "execution_count": 23,
   "metadata": {},
   "outputs": [],
   "source": [
    "def evaluate(test_sequences):\n",
    "    evaluation_outputs = []\n",
    "    ns = test_sequences.shape[0]\n",
    "    for i in range(ns):\n",
    "        # print(test_sequences[i])\n",
    "        evaluation_outputs.append(single_predict(test_sequences[i]))\n",
    "    return evaluation_outputs"
   ]
  },
  {
   "cell_type": "code",
   "execution_count": 24,
   "metadata": {},
   "outputs": [],
   "source": [
    "outs = evaluate(test_x)"
   ]
  },
  {
   "cell_type": "code",
   "execution_count": 26,
   "metadata": {},
   "outputs": [
    {
     "data": {
      "text/plain": [
       "<All keys matched successfully>"
      ]
     },
     "execution_count": 26,
     "metadata": {},
     "output_type": "execute_result"
    }
   ],
   "source": [
    "torch.save(lstm.state_dict(), 'model.pth')\n",
    "input_size = 128\n",
    "hidden_size = 64\n",
    "num_layers = 1\n",
    "num_classes = 1\n",
    "batch_size = 16\n",
    "SavedModel = LSTM(num_classes, input_size, hidden_size, num_layers)\n",
    "SavedModel.load_state_dict(torch.load('model.pth'))"
   ]
  },
  {
   "cell_type": "code",
   "execution_count": 27,
   "metadata": {},
   "outputs": [
    {
     "data": {
      "text/plain": [
       "LSTM(\n",
       "  (lstm): LSTM(128, 64)\n",
       "  (fc): Linear(in_features=64, out_features=1, bias=True)\n",
       "  (relu): ReLU()\n",
       ")"
      ]
     },
     "execution_count": 27,
     "metadata": {},
     "output_type": "execute_result"
    }
   ],
   "source": [
    "SavedModel"
   ]
  },
  {
   "cell_type": "markdown",
   "metadata": {
    "id": "TMrRf_aVDRJm"
   },
   "source": [
    "# Part 2: what if the DNA sequences are not the same length"
   ]
  },
  {
   "cell_type": "code",
   "execution_count": 60,
   "metadata": {},
   "outputs": [],
   "source": [
    "# hint we will need following imports\n",
    "from torch.nn.utils.rnn import pad_sequence, pack_padded_sequence, pad_packed_sequence"
   ]
  },
  {
   "cell_type": "code",
   "execution_count": 61,
   "metadata": {
    "id": "AKvG-MNuXJr9"
   },
   "outputs": [],
   "source": [
    "# DO NOT CHANGE HERE\n",
    "random.seed(13)\n",
    "\n",
    "# Use this for getting x label\n",
    "def rand_sequence_var_len(n_seqs: int, lb: int=16, ub: int=128) -> Sequence[int]:\n",
    "    for i in range(n_seqs):\n",
    "        seq_len = random.randint(lb, ub)\n",
    "        yield [random.randint(1, 5) for _ in range(seq_len)]\n",
    "\n",
    "\n",
    "# Use this for getting y label\n",
    "def count_cpgs(seq: str) -> int:\n",
    "    cgs = 0\n",
    "    for i in range(0, len(seq) - 1):\n",
    "        dimer = seq[i:i+2]\n",
    "        # note that seq is a string, not a list\n",
    "        if dimer == \"CG\":\n",
    "            cgs += 1\n",
    "    return cgs\n",
    "\n",
    "\n",
    "# Alphabet helpers   \n",
    "alphabet = 'NACGT'\n",
    "dna2int = {a: i for a, i in zip(alphabet, range(1, 6))}\n",
    "int2dna = {i: a for a, i in zip(alphabet, range(1, 6))}\n",
    "dna2int.update({\"pad\": 0})\n",
    "int2dna.update({0: \"<pad>\"})\n",
    "\n",
    "intseq_to_dnaseq = partial(map, int2dna.get)\n",
    "dnaseq_to_intseq = partial(map, dna2int.get)"
   ]
  },
  {
   "cell_type": "code",
   "execution_count": 62,
   "metadata": {},
   "outputs": [],
   "source": [
    "# TODO complete the task based on the change\n",
    "def prepare_data(num_samples=100, min_len=16, max_len=128):\n",
    "    # TODO prepared the training and test data\n",
    "    # you need to call rand_sequence and count_cpgs here to create the dataset\n",
    "    #step 1\n",
    "    X_dna_seqs_train = list(rand_sequence_var_len(num_samples, min_len, max_len))\n",
    "    #step 2\n",
    "    temp =[[int2dna[j] for j in i] for i in X_dna_seqs_train]\n",
    "    #step3\n",
    "    y_dna_seqs =  [count_cpgs(''.join(i)) for i in temp]\n",
    "    return X_dna_seqs_train, y_dna_seqs\n",
    "    \n",
    "    \n",
    "min_len, max_len = 64, 128\n",
    "train_x, train_y = prepare_data(2048, min_len, max_len)\n",
    "test_x, test_y = prepare_data(512, min_len, max_len)"
   ]
  },
  {
   "cell_type": "code",
   "execution_count": 63,
   "metadata": {},
   "outputs": [],
   "source": [
    "class MyDataset(torch.utils.data.Dataset):\n",
    "    def __init__(self, lists, labels): \n",
    "        self.lists = lists\n",
    "        self.labels = labels\n",
    "\n",
    "    def __getitem__(self, index):\n",
    "        return torch.LongTensor(self.lists[index]), self.labels[index]\n",
    "\n",
    "    def __len__(self):\n",
    "        return len(self.lists)\n",
    "\n",
    "# this will be a collate_fn for dataloader to pad sequence  \n",
    "class PadSequence:\n",
    "    def __call__(self, batch):\n",
    "        # Sort the batch in descending order based on sequence length\n",
    "        batch = sorted(batch, key=lambda x: len(x[0]), reverse=True)\n",
    "        sequences, labels = zip(*batch)\n",
    "\n",
    "        # Get the maximum sequence length in the batch\n",
    "        max_length = max(len(seq) for seq in sequences)\n",
    "\n",
    "        # Pad sequences to have the same length\n",
    "        sequences_padded = []\n",
    "        for seq in sequences:\n",
    "            padding = torch.zeros(max_length - len(seq), dtype=torch.long)\n",
    "            padded_seq = torch.cat((seq, padding))\n",
    "            sequences_padded.append(padded_seq)\n",
    "        sequences_padded = torch.stack(sequences_padded)\n",
    "\n",
    "        # Convert labels to a tensor\n",
    "        labels_tensor = torch.FloatTensor(labels)\n",
    "\n",
    "        return sequences_padded, labels_tensor"
   ]
  },
  {
   "cell_type": "code",
   "execution_count": 75,
   "metadata": {},
   "outputs": [],
   "source": [
    "set_seed(13)\n",
    "dataset_train = MyDataset(train_x, train_y)\n",
    "dataset_test = MyDataset(test_x, test_y)\n",
    "\n",
    "batch_size= 16\n",
    "num_epochs = 10 \n",
    "\n",
    "data_loader_train = torch.utils.data.DataLoader(dataset_train, batch_size=BATCH_SIZE, collate_fn=PadSequence())\n",
    "data_loader_test = torch.utils.data.DataLoader(dataset_test, batch_size=BATCH_SIZE, collate_fn=PadSequence())\n",
    "\n",
    "lstm = LSTM(num_classes, input_size, hidden_size, num_layers)\n",
    "criterion = torch.nn.MSELoss() \n",
    "optimizer = torch.optim.Adam(lstm.parameters(), lr=learning_rate)"
   ]
  },
  {
   "cell_type": "code",
   "execution_count": 79,
   "metadata": {
    "scrolled": true
   },
   "outputs": [
    {
     "name": "stdout",
     "output_type": "stream",
     "text": [
      "Epoch: 0, Train loss: 428.05291 Test loss : 109.10320\n",
      "Epoch: 1, Train loss: 414.96917 Test loss : 107.46736\n",
      "Epoch: 2, Train loss: 409.61301 Test loss : 107.74857\n",
      "Epoch: 3, Train loss: 414.21048 Test loss : 107.98451\n",
      "Epoch: 4, Train loss: 416.86069 Test loss : 108.36785\n",
      "Epoch: 5, Train loss: 405.69848 Test loss : 107.88763\n",
      "Epoch: 6, Train loss: 409.55567 Test loss : 107.79962\n",
      "Epoch: 7, Train loss: 419.92916 Test loss : 110.11218\n",
      "Epoch: 8, Train loss: 416.68516 Test loss : 109.70897\n",
      "Epoch: 9, Train loss: 416.38959 Test loss : 110.42707\n"
     ]
    }
   ],
   "source": [
    "for epoch in range(num_epochs):\n",
    "    EPOCH_LOSSES = 0 \n",
    "    for j,(x_train,y_train) in enumerate(data_loader_train):\n",
    "        temp = torch.zeros(batch_size,max_len-x_train.shape[1])\n",
    "        x_train = torch.cat((x_train,temp),dim=1)\n",
    "        x_train = x_train.unsqueeze(0)\n",
    "        outputs = lstm(x_train)\n",
    "        optimizer.zero_grad()\n",
    "        y_train = y_train.unsqueeze(0).unsqueeze(0).permute(0,2,1)\n",
    "        loss = criterion(outputs, y_train)\n",
    "        test_loss_total = 0 \n",
    "        with torch.inference_mode():\n",
    "            test_loss_total = 0 \n",
    "            for j,(x_test,y_test) in enumerate(data_loader_test):\n",
    "                temp_test = torch.zeros(batch_size,max_len-x_test.shape[1])\n",
    "                x_test = torch.cat((x_test,temp_test),dim=1)\n",
    "                x_test = x_test.unsqueeze(0)\n",
    "                test_output = lstm(x_test)\n",
    "                y_test = y_test.unsqueeze(0).unsqueeze(0).permute(0,2,1)\n",
    "                # print(test_output.shape,y_test.shape)\n",
    "                test_loss = criterion(test_output,y_test)\n",
    "                test_loss_total+=test_loss.item()\n",
    "                \n",
    "        EPOCH_LOSSES+=loss.item() \n",
    "        loss.backward()\n",
    "        optimizer.step()\n",
    "    if epoch % 1 == 0:\n",
    "        print(\"Epoch: %d, Train loss: %1.5f Test loss : %1.5f\"  % (epoch, EPOCH_LOSSES,test_loss_total))  "
   ]
  },
  {
   "cell_type": "code",
   "execution_count": 81,
   "metadata": {},
   "outputs": [],
   "source": [
    "torch.save(lstm.state_dict(), 'saved_model.pth')"
   ]
  },
  {
   "cell_type": "code",
   "execution_count": 82,
   "metadata": {},
   "outputs": [
    {
     "data": {
      "text/plain": [
       "<All keys matched successfully>"
      ]
     },
     "execution_count": 82,
     "metadata": {},
     "output_type": "execute_result"
    }
   ],
   "source": [
    "num_classes = 1 \n",
    "input_size = 128 \n",
    "hidden_size = 64 \n",
    "num_layers = 1 \n",
    "SAVED_MODEL = LSTM(num_classes, input_size, hidden_size, num_layers)\n",
    "SAVED_MODEL.load_state_dict(torch.load('saved_model.pth'))"
   ]
  },
  {
   "cell_type": "code",
   "execution_count": 101,
   "metadata": {},
   "outputs": [],
   "source": [
    "def single_predict_new(test_sample,model):\n",
    "    with torch.inference_mode():\n",
    "        observation = torch.from_numpy(np.array(test_sample)).float()\n",
    "        temp_obs = torch.zeros(max_len-observation.shape[0])\n",
    "        observation = torch.cat((observation,temp_obs),dim=0)\n",
    "        observation = observation.unsqueeze(0).unsqueeze(0)\n",
    "        observation_output = model(observation).item()\n",
    "        return observation_output"
   ]
  },
  {
   "cell_type": "code",
   "execution_count": 105,
   "metadata": {},
   "outputs": [
    {
     "name": "stdout",
     "output_type": "stream",
     "text": [
      "3.1439943313598633\n",
      "3.1439945697784424\n",
      "3.1439924240112305\n",
      "4.613716125488281\n",
      "3.1439929008483887\n",
      "4.613716125488281\n",
      "3.385288953781128\n",
      "3.1439929008483887\n",
      "3.1439943313598633\n",
      "4.613716125488281\n"
     ]
    }
   ],
   "source": [
    "for i in range(10):\n",
    "    print(single_predict_new(test_x[i],SAVED_MODEL))"
   ]
  },
  {
   "attachments": {
    "image.png": {
     "image/png": "[encoded data removed]"
    }
   },
   "cell_type": "markdown",
   "metadata": {},
   "source": [
    "## Deployment using flask  :Demo\n",
    "![image.png](attachment:image.png)"
   ]
  },
  {
   "cell_type": "code",
   "execution_count": 106,
   "metadata": {},
   "outputs": [],
   "source": [
    "# import numpy as np\n",
    "# from flask import Flask, request,render_template\n",
    "# print('testing')\n",
    "# from torch.autograd import Variable\n",
    "# import torch.nn as nn\n",
    "# import torch.optim as optim\n",
    "# from typing import Sequence\n",
    "# from functools import partial\n",
    "# from torch.utils.data import Dataset, DataLoader\n",
    "# print('testing')\n",
    "# import pickle\n",
    "# import torch \n",
    "# from functools import partial\n",
    "# app = Flask(__name__)\n",
    "# \n",
    "# \n",
    "# # Regression Model\n",
    "# class LSTM(nn.Module):\n",
    "# \n",
    "#     def __init__(self, num_classes, input_size, hidden_size, num_layers):\n",
    "#         super(LSTM, self).__init__()\n",
    "#         \n",
    "#         self.num_classes = num_classes\n",
    "#         self.num_layers = num_layers\n",
    "#         self.input_size = input_size\n",
    "#         self.hidden_size = hidden_size\n",
    "#         \n",
    "#         self.lstm = nn.LSTM(input_size=input_size, hidden_size=hidden_size,\n",
    "#                             num_layers=num_layers)\n",
    "#         \n",
    "#         self.fc = nn.Linear(hidden_size,self.num_classes)\n",
    "#         self.relu = nn.ReLU()\n",
    "# \n",
    "#     def forward(self, x):\n",
    "#         h_0 = Variable(torch.zeros(\n",
    "#             self.num_layers, x.size(1), self.hidden_size))\n",
    "#         \n",
    "#         c_0 = Variable(torch.zeros(\n",
    "#             self.num_layers, x.size(1), self.hidden_size))\n",
    "#         # Propagate input through LSTM\n",
    "#         ula, (h_out, _) = self.lstm(x, (h_0, c_0))\n",
    "#         \n",
    "#         out = self.fc(h_out)\n",
    "#         out = self.relu(out)\n",
    "#         \n",
    "#         return out\n",
    "# \n",
    "# input_size = 128\n",
    "# max_len = 128 \n",
    "# hidden_size = 64\n",
    "# num_layers = 1\n",
    "# num_classes = 1\n",
    "# batch_size = 16\n",
    "# SAVED_MODEL = LSTM(num_classes, input_size, hidden_size, num_layers)\n",
    "# SAVED_MODEL.load_state_dict(torch.load('saved_model.pth'))\n",
    "# \n",
    "# @app.route('/',methods = ['GET'])\n",
    "# def home():\n",
    "#     return render_template('index.html')\n",
    "# \n",
    "# \n",
    "# @app.route(\"/predict\",methods=['POST'])\n",
    "# def predict():\n",
    "#     if request.method == 'POST':\n",
    "#         Medu = request.form.get(\"Medu\")\t\n",
    "#         # find the output using model\n",
    "#         output = None \n",
    "#         def single_predict(test_sample):\n",
    "# \n",
    "#             alphabet = 'NACGT'\n",
    "#             dna2int = {a: i for a, i in zip(alphabet, range(1, 6))}\n",
    "#             int2dna = {i: a for a, i in zip(alphabet, range(1, 6))}\n",
    "#             dna2int.update({\"pad\": 0})\n",
    "#             int2dna.update({0: \"<pad>\"})\n",
    "# \n",
    "#             test_sample = list(test_sample)\n",
    "#             print(test_sample)\n",
    "#             test_sample = [dna2int[i] for i in test_sample]\n",
    "#             test_sample = np.array(test_sample)\n",
    "#             print(test_sample) \n",
    "#             with torch.inference_mode():\n",
    "#                 observation = torch.from_numpy(np.array(test_sample)).float()\n",
    "#                 temp_obs = torch.zeros(max_len-observation.shape[0])\n",
    "#                 observation = torch.cat((observation,temp_obs),dim=0)\n",
    "#                 observation = observation.unsqueeze(0).unsqueeze(0)\n",
    "#                 observation_output = SAVED_MODEL(observation).item()\n",
    "#                 return observation_output\n",
    "#         \n",
    "#         output = single_predict(Medu)\n",
    "#         return render_template('index.html', prediction_text= \"Lstm Model Prediction is {}\".format(output))\n",
    "#     else:\n",
    "#         return render_template('index.html')\n",
    "# \n",
    "#     \n",
    "# if __name__ == \"__main__\":\n",
    "#     app.run(debug=True)"
   ]
  },
  {
   "cell_type": "markdown",
   "metadata": {},
   "source": [
    "## Template.html "
   ]
  },
  {
   "cell_type": "code",
   "execution_count": 107,
   "metadata": {},
   "outputs": [],
   "source": [
    "# <!DOCTYPE html>\n",
    "# <html lang = 'en'>\n",
    "# <head>\n",
    "#     <link rel=\"stylesheet\" href=\"https://cdn.jsdelivr.net/npm/semantic-ui@2.4.2/dist/semantic.min.css\">\n",
    "#     <meta name=\"viewport\" content=\"width=device-width, initial-scale=1.0\">\n",
    "#     <meta charset = \"UTF-8\">\n",
    "#     <title>CpG prediction</title>\n",
    "# </head>\n",
    "# <body>\n",
    "#     <br><br>\n",
    "#     <h1>CpG Detector - LSTM Model DEMO</h1>\n",
    "#     <form action=\"{{url_for('predict')}}\" method=\"post\">\n",
    "#         <div style=\"margin:0;padding:0\">\n",
    "#             <div>\n",
    "#                 <h3 > Input String </h>\n",
    "#                 <input id=\"feature1\" name= \"Medu\"  type=\"text\" required = \"required\" />\n",
    "#             </div>\n",
    "#             <br>\n",
    "#             <button class=\"ui blue button\" type=\"submit\">predict</button>\n",
    "#         </form>\n",
    "#         <br><br><h3>{{ prediction_text }}</h3>     \n",
    "#     </div>\n",
    "# <style>\n",
    "#     body {\n",
    "#         background-color: rgb(255, 255, 255);\n",
    "#         text-align: center;\n",
    "#         font-family: sans-serif;\n",
    "#         padding: 0px;\n",
    "#     }   \n",
    "# </style>\n",
    "# </body>\n",
    "# </html>"
   ]
  },
  {
   "attachments": {
    "image.png": {
     "image/png": "[encoded data removed]"
    }
   },
   "cell_type": "markdown",
   "metadata": {},
   "source": [
    "![image.png](attachment:image.png)"
   ]
  },
  {
   "cell_type": "code",
   "execution_count": null,
   "metadata": {},
   "outputs": [],
   "source": []
  }
 ],
 "metadata": {
  "colab": {
   "collapsed_sections": [],
   "name": "Xi Yangs Copy of broken-nn-template.ipynb",
   "provenance": [
    {
     "file_id": "13GlbI_pdKNES8I718iwl1KNnMZ73iOOn",
     "timestamp": 1651680757732
    }
   ]
  },
  "kernelspec": {
   "display_name": "Python 3 (ipykernel)",
   "language": "python",
   "name": "python3"
  },
  "language_info": {
   "codemirror_mode": {
    "name": "ipython",
    "version": 3
   },
   "file_extension": ".py",
   "mimetype": "text/x-python",
   "name": "python",
   "nbconvert_exporter": "python",
   "pygments_lexer": "ipython3",
   "version": "3.10.9"
  }
 },
 "nbformat": 4,
 "nbformat_minor": 1
}
