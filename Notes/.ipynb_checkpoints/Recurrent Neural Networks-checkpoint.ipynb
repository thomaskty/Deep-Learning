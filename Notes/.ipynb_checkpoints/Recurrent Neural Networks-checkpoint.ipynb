{
 "cells": [
  {
   "cell_type": "code",
   "execution_count": 82,
   "id": "90214827",
   "metadata": {},
   "outputs": [],
   "source": [
    "import torch\n",
    "from torch import nn"
   ]
  },
  {
   "cell_type": "code",
   "execution_count": 83,
   "id": "6fdc933c",
   "metadata": {},
   "outputs": [],
   "source": [
    "device = 'cpu'"
   ]
  },
  {
   "cell_type": "markdown",
   "id": "a12f84c3",
   "metadata": {},
   "source": [
    "## RNN Pytorch Implementations\n",
    "https://pytorch.org/docs/stable/generated/torch.nn.RNNCell.html"
   ]
  },
  {
   "cell_type": "code",
   "execution_count": 84,
   "id": "59369c03",
   "metadata": {},
   "outputs": [],
   "source": [
    "rnn = nn.RNNCell(hidden_size=6,input_size=5,bias = False,device = device)"
   ]
  },
  {
   "cell_type": "code",
   "execution_count": 85,
   "id": "81d03325",
   "metadata": {},
   "outputs": [],
   "source": [
    "rnn.bias_hh # hidden to hidden bias "
   ]
  },
  {
   "cell_type": "code",
   "execution_count": 86,
   "id": "c7b8c5d8",
   "metadata": {},
   "outputs": [],
   "source": [
    "rnn.bias_ih # input to hidden bias "
   ]
  },
  {
   "cell_type": "code",
   "execution_count": 87,
   "id": "49076aa2",
   "metadata": {},
   "outputs": [
    {
     "data": {
      "text/plain": [
       "Parameter containing:\n",
       "tensor([[-0.2079, -0.1371,  0.3167, -0.0728, -0.0923],\n",
       "        [ 0.3955,  0.3884,  0.2647,  0.3260,  0.2961],\n",
       "        [ 0.2274, -0.2919,  0.2993,  0.2691, -0.3497],\n",
       "        [ 0.1934, -0.2687,  0.3761, -0.1984, -0.0185],\n",
       "        [-0.3789,  0.0921, -0.0720,  0.0133, -0.4003],\n",
       "        [-0.3757, -0.0361,  0.1784, -0.1611,  0.1311]], requires_grad=True)"
      ]
     },
     "execution_count": 87,
     "metadata": {},
     "output_type": "execute_result"
    }
   ],
   "source": [
    "rnn.weight_ih     # 6*5 "
   ]
  },
  {
   "cell_type": "code",
   "execution_count": 88,
   "id": "628ac981",
   "metadata": {
    "scrolled": true
   },
   "outputs": [
    {
     "data": {
      "text/plain": [
       "Parameter containing:\n",
       "tensor([[-0.2909,  0.1665, -0.2742,  0.3986,  0.1527, -0.0138],\n",
       "        [-0.0803, -0.3755,  0.2803, -0.1545,  0.1168,  0.2769],\n",
       "        [ 0.0067, -0.2645, -0.3478,  0.0854, -0.3467, -0.2325],\n",
       "        [ 0.0353,  0.2871,  0.0682, -0.3234,  0.3103, -0.4015],\n",
       "        [ 0.0557,  0.3192,  0.1088, -0.3757,  0.2607,  0.1410],\n",
       "        [-0.3241, -0.3853,  0.3671, -0.2126, -0.0180,  0.0060]],\n",
       "       requires_grad=True)"
      ]
     },
     "execution_count": 88,
     "metadata": {},
     "output_type": "execute_result"
    }
   ],
   "source": [
    "rnn.weight_hh  # 6*6 "
   ]
  },
  {
   "cell_type": "code",
   "execution_count": 89,
   "id": "16b25ef6",
   "metadata": {},
   "outputs": [],
   "source": [
    "test_sample = torch.randn(3,4,5) # 3 batches,each batch has 4 vectors which is 5 dimensional. "
   ]
  },
  {
   "cell_type": "code",
   "execution_count": 90,
   "id": "0c2c52d2",
   "metadata": {},
   "outputs": [],
   "source": [
    "test_sample = test_sample.to(device)"
   ]
  },
  {
   "cell_type": "code",
   "execution_count": 91,
   "id": "02698da1",
   "metadata": {},
   "outputs": [
    {
     "data": {
      "text/plain": [
       "tensor([[[ 1.2449, -0.4449, -0.6182, -0.2207,  1.6345],\n",
       "         [ 1.2992,  1.1123,  1.2630,  0.9423, -0.1036],\n",
       "         [-0.5036,  0.4709, -0.3713,  2.2211, -0.5245],\n",
       "         [ 2.2778,  0.0427, -0.1175, -0.4367, -0.2990]],\n",
       "\n",
       "        [[-1.1035, -1.4069,  1.6627,  0.1755, -0.2687],\n",
       "         [ 1.6335, -0.2812,  0.1253, -0.3008, -1.7128],\n",
       "         [-0.9821, -1.3645, -0.8287,  1.1239, -0.2886],\n",
       "         [-0.8218, -2.0579, -0.9004,  0.7509,  1.1611]],\n",
       "\n",
       "        [[-1.4993, -1.3877,  0.9356,  1.1334, -0.6139],\n",
       "         [-0.1392, -1.5760,  0.3991, -0.1297, -2.1610],\n",
       "         [ 1.4208,  1.2944,  0.5276,  0.7422,  0.4764],\n",
       "         [ 0.4272, -0.1083, -0.3133,  0.1185,  0.2591]]])"
      ]
     },
     "execution_count": 91,
     "metadata": {},
     "output_type": "execute_result"
    }
   ],
   "source": [
    "test_sample"
   ]
  },
  {
   "cell_type": "code",
   "execution_count": 92,
   "id": "63b2ac9c",
   "metadata": {},
   "outputs": [
    {
     "data": {
      "text/plain": [
       "tensor([[ 1.3610e+00,  7.5831e-02,  6.1348e-01,  1.1503e+00,  9.3436e-01,\n",
       "          1.0546e+00],\n",
       "        [-1.1902e-03, -2.4235e-01,  5.5246e-01, -4.6059e-01, -2.8049e-01,\n",
       "         -4.9840e-01],\n",
       "        [ 6.7956e-01, -3.8139e-02,  2.4083e-01,  2.8737e-01, -7.3949e-01,\n",
       "         -6.7262e-01],\n",
       "        [ 1.8517e-01, -3.0908e-01,  8.8091e-01, -3.9295e-01, -1.9632e+00,\n",
       "          4.7731e-01]])"
      ]
     },
     "execution_count": 92,
     "metadata": {},
     "output_type": "execute_result"
    }
   ],
   "source": [
    "hx = torch.randn(4, 6,device = device)\n",
    "hx"
   ]
  },
  {
   "cell_type": "code",
   "execution_count": 93,
   "id": "5a86f347",
   "metadata": {},
   "outputs": [
    {
     "data": {
      "text/plain": [
       "3"
      ]
     },
     "execution_count": 93,
     "metadata": {},
     "output_type": "execute_result"
    }
   ],
   "source": [
    "test_sample\n",
    "len(test_sample)"
   ]
  },
  {
   "cell_type": "code",
   "execution_count": 94,
   "id": "ae36c47a",
   "metadata": {},
   "outputs": [],
   "source": [
    "output = []\n",
    "for i in range(len(test_sample)):\n",
    "    hx = rnn(test_sample[i],hx)\n",
    "    #hx.to(device)\n",
    "    output.append(hx)"
   ]
  },
  {
   "cell_type": "code",
   "execution_count": 95,
   "id": "01c5730b",
   "metadata": {},
   "outputs": [
    {
     "data": {
      "text/plain": [
       "[tensor([[-0.4568,  0.6781, -0.7999, -0.2472, -0.7610, -0.6708],\n",
       "         [-0.4563,  0.9358,  0.5943,  0.4401, -0.3922, -0.0717],\n",
       "         [-0.4219,  0.1632,  0.6563, -0.6737,  0.1555, -0.4539],\n",
       "         [-0.8530,  0.7475,  0.6470, -0.2155, -0.7724, -0.3301]],\n",
       "        grad_fn=<TanhBackward0>),\n",
       " tensor([[ 0.8398, -0.8465,  0.8599,  0.7605,  0.1806,  0.3399],\n",
       "         [ 0.1594, -0.3067,  0.6304,  0.5283,  0.0877, -0.6852],\n",
       "         [-0.1926, -0.6067,  0.0502,  0.1707,  0.6447,  0.4652],\n",
       "         [ 0.0019, -0.7413, -0.1605,  0.0760, -0.1719,  0.4911]],\n",
       "        grad_fn=<TanhBackward0>),\n",
       " tensor([[ 0.4440, -0.2044,  0.6155, -0.2542,  0.3033,  0.6194],\n",
       "         [ 0.4955, -0.8413,  0.8632,  0.6071,  0.4214,  0.0975],\n",
       "         [-0.2934,  0.9656, -0.0390, -0.2451, -0.5832, -0.2675],\n",
       "         [-0.2807,  0.4595,  0.1782, -0.4878, -0.4695,  0.0183]],\n",
       "        grad_fn=<TanhBackward0>)]"
      ]
     },
     "execution_count": 95,
     "metadata": {},
     "output_type": "execute_result"
    }
   ],
   "source": [
    "output"
   ]
  },
  {
   "cell_type": "markdown",
   "id": "74f9b398",
   "metadata": {},
   "source": [
    "## Rnn/Lstm for Time Series Forecasting "
   ]
  },
  {
   "cell_type": "code",
   "execution_count": 96,
   "id": "db559d87",
   "metadata": {},
   "outputs": [],
   "source": [
    "import pandas as pd \n",
    "import numpy as np\n",
    "import matplotlib.pyplot as plt\n",
    "from torch.autograd import Variable \n",
    "from sklearn.preprocessing import MinMaxScaler"
   ]
  },
  {
   "cell_type": "code",
   "execution_count": 97,
   "id": "0196b33e",
   "metadata": {},
   "outputs": [],
   "source": [
    "df = pd.read_csv('data/time_series_data.csv',usecols=['Month','Passengers'])"
   ]
  },
  {
   "cell_type": "code",
   "execution_count": 98,
   "id": "a956aba4",
   "metadata": {},
   "outputs": [
    {
     "data": {
      "text/plain": [
       "(144, 2)"
      ]
     },
     "execution_count": 98,
     "metadata": {},
     "output_type": "execute_result"
    }
   ],
   "source": [
    "df.shape"
   ]
  },
  {
   "cell_type": "code",
   "execution_count": 99,
   "id": "2b1eaaa7",
   "metadata": {},
   "outputs": [],
   "source": [
    "training_set  = df.iloc[:,1:2].values"
   ]
  },
  {
   "cell_type": "code",
   "execution_count": 100,
   "id": "341e9dd6",
   "metadata": {},
   "outputs": [
    {
     "data": {
      "image/png": "[encoded data removed]",
      "text/plain": [
       "<Figure size 1300x300 with 1 Axes>"
      ]
     },
     "metadata": {},
     "output_type": "display_data"
    }
   ],
   "source": [
    "plt.figure(figsize = (13,3))\n",
    "plt.plot(training_set)\n",
    "plt.show()"
   ]
  },
  {
   "cell_type": "code",
   "execution_count": 101,
   "id": "9ec5fd1e",
   "metadata": {},
   "outputs": [],
   "source": [
    "def sliding_windows(data, seq_length):\n",
    "    x = []\n",
    "    y = []\n",
    "    for i in range(len(data)-seq_length-1):\n",
    "        _x = data[i:(i+seq_length)]\n",
    "        _y = data[i+seq_length]\n",
    "        x.append(_x)\n",
    "        y.append(_y)\n",
    "\n",
    "    return np.array(x),np.array(y)"
   ]
  },
  {
   "cell_type": "code",
   "execution_count": 102,
   "id": "878d9ae5",
   "metadata": {},
   "outputs": [],
   "source": [
    "sc = MinMaxScaler()\n",
    "training_data = sc.fit_transform(training_set)\n",
    "\n",
    "seq_length = 4\n",
    "x, y = sliding_windows(training_data, seq_length)"
   ]
  },
  {
   "cell_type": "code",
   "execution_count": 103,
   "id": "846fe10b",
   "metadata": {},
   "outputs": [],
   "source": [
    "# seq_len = 5\n",
    "# final_data = df.Passengers \n",
    "# \n",
    "# for i in range(len(final_data)-seq_len-1):\n",
    "#     print(np.array(final_data[i:i+seq_len]),final_data[i+seq_len])"
   ]
  },
  {
   "cell_type": "code",
   "execution_count": 104,
   "id": "415a3e53",
   "metadata": {},
   "outputs": [],
   "source": [
    "train_size = int(len(y) * 0.67)\n",
    "test_size = len(y) - train_size\n",
    "\n",
    "dataX = torch.Tensor(np.array(x))\n",
    "dataY = torch.Tensor(np.array(y))\n",
    "\n",
    "trainX =torch.Tensor(np.array(x[0:train_size]))\n",
    "trainX = trainX.to(device)\n",
    "trainY =torch.Tensor(np.array(y[0:train_size]))\n",
    "trainY = trainY.to(device)\n",
    "\n",
    "testX = torch.Tensor(np.array(x[train_size:len(x)]))\n",
    "testY = torch.Tensor(np.array(y[train_size:len(y)]))\n",
    "testX = testX.to(device)\n",
    "testY = testY.to(device)"
   ]
  },
  {
   "cell_type": "markdown",
   "id": "b3045e52",
   "metadata": {},
   "source": [
    "## LSTM Pytorch Implementations\n",
    "\n",
    "https://pytorch.org/docs/stable/generated/torch.nn.LSTM.html"
   ]
  },
  {
   "cell_type": "code",
   "execution_count": 128,
   "id": "fd53b8ed",
   "metadata": {},
   "outputs": [],
   "source": [
    "class LSTM(nn.Module):\n",
    "    device = 'cpu'\n",
    "    def __init__(self,num_classes,input_size, hidden_size, num_layers):\n",
    "        super(LSTM, self).__init__()\n",
    "        self.num_classes = num_classes\n",
    "        self.num_layers = num_layers\n",
    "        self.input_size = input_size\n",
    "        self.hidden_size = hidden_size\n",
    "        self.lstm = nn.LSTM(\n",
    "            input_size=input_size, \n",
    "            hidden_size=hidden_size,\n",
    "            num_layers=num_layers,\n",
    "            batch_first=True\n",
    "        )\n",
    "        self.fc = nn.Linear(hidden_size, num_classes)\n",
    "\n",
    "    def forward(self, x):\n",
    "        hidden = torch.zeros(self.num_layers, x.size(0), self.hidden_size,device = self.device) \n",
    "        cell = torch.zeros(self.num_layers, x.size(0), self.hidden_size,device = self.device)\n",
    "        # print(hidden.device) : cuda \n",
    "        # print(cell.device) : cuda \n",
    "        # print(x.device) : cuda \n",
    "        output, (hidden,cell) = self.lstm(x, (hidden, cell))\n",
    "        \n",
    "        # print(f'lstm output shape : {output.shape}') : (93,4,3) \n",
    "        # print(f'hidden shape : {hidden.shape}') : (1,93,3) \n",
    "        # print(f'cell shape : {cell.shape}') : (1,93,3)\n",
    "        \n",
    "        hidden = hidden.view(-1, self.hidden_size)\n",
    "        # print(f'new hidden shape : {hidden.shape}') : (93,3)\n",
    "        \n",
    "        out = self.fc(hidden)\n",
    "        # print(f'final output shape : {out.shape}') ; (93,1) \n",
    "        return out"
   ]
  },
  {
   "cell_type": "code",
   "execution_count": 137,
   "id": "7b871c83",
   "metadata": {},
   "outputs": [],
   "source": [
    "num_epochs = 2000\n",
    "learning_rate = 0.001\n",
    "input_size = 1\n",
    "hidden_size = 3\n",
    "num_layers = 1\n",
    "num_classes = 1\n",
    "lstm = LSTM(num_classes, input_size, hidden_size, num_layers)"
   ]
  },
  {
   "cell_type": "code",
   "execution_count": 138,
   "id": "22cefe27",
   "metadata": {},
   "outputs": [
    {
     "data": {
      "text/plain": [
       "LSTM(\n",
       "  (lstm): LSTM(1, 3, batch_first=True)\n",
       "  (fc): Linear(in_features=3, out_features=1, bias=True)\n",
       ")"
      ]
     },
     "execution_count": 138,
     "metadata": {},
     "output_type": "execute_result"
    }
   ],
   "source": [
    "lstm"
   ]
  },
  {
   "cell_type": "code",
   "execution_count": 139,
   "id": "24c5b593",
   "metadata": {},
   "outputs": [],
   "source": [
    "criterion = torch.nn.MSELoss()    \n",
    "optimizer = torch.optim.Adam(lstm.parameters(), lr=learning_rate)"
   ]
  },
  {
   "cell_type": "code",
   "execution_count": 140,
   "id": "f2fd7c4f",
   "metadata": {},
   "outputs": [
    {
     "data": {
      "text/plain": [
       "device(type='cpu')"
      ]
     },
     "execution_count": 140,
     "metadata": {},
     "output_type": "execute_result"
    }
   ],
   "source": [
    "trainY.device"
   ]
  },
  {
   "cell_type": "code",
   "execution_count": 141,
   "id": "4596af3a",
   "metadata": {},
   "outputs": [
    {
     "data": {
      "text/plain": [
       "'cpu'"
      ]
     },
     "execution_count": 141,
     "metadata": {},
     "output_type": "execute_result"
    }
   ],
   "source": [
    "lstm.device"
   ]
  },
  {
   "cell_type": "code",
   "execution_count": 142,
   "id": "96e03ed6",
   "metadata": {},
   "outputs": [],
   "source": [
    "# lstm output shape : torch.Size([93, 4, 3])\n",
    "# hidden shape : torch.Size([1, 93, 3])\n",
    "# cell shape : torch.Size([1, 93, 3])\n",
    "# new hidden shape : torch.Size([93, 3])\n",
    "# final output shape : torch.Size([93, 1])"
   ]
  },
  {
   "cell_type": "code",
   "execution_count": 143,
   "id": "9b0c009f",
   "metadata": {},
   "outputs": [
    {
     "data": {
      "text/plain": [
       "torch.Size([93, 4, 1])"
      ]
     },
     "execution_count": 143,
     "metadata": {},
     "output_type": "execute_result"
    }
   ],
   "source": [
    "trainX.shape"
   ]
  },
  {
   "cell_type": "code",
   "execution_count": 144,
   "id": "5c4d8e2a",
   "metadata": {},
   "outputs": [
    {
     "name": "stdout",
     "output_type": "stream",
     "text": [
      "Epoch: 0, loss: 0.01745\n",
      "Epoch: 100, loss: 0.01167\n",
      "Epoch: 200, loss: 0.00398\n",
      "Epoch: 300, loss: 0.00381\n",
      "Epoch: 400, loss: 0.00362\n",
      "Epoch: 500, loss: 0.00342\n",
      "Epoch: 600, loss: 0.00319\n",
      "Epoch: 700, loss: 0.00297\n",
      "Epoch: 800, loss: 0.00276\n",
      "Epoch: 900, loss: 0.00257\n",
      "Epoch: 1000, loss: 0.00240\n",
      "Epoch: 1100, loss: 0.00226\n",
      "Epoch: 1200, loss: 0.00215\n",
      "Epoch: 1300, loss: 0.00205\n",
      "Epoch: 1400, loss: 0.00196\n",
      "Epoch: 1500, loss: 0.00186\n",
      "Epoch: 1600, loss: 0.00179\n",
      "Epoch: 1700, loss: 0.00176\n",
      "Epoch: 1800, loss: 0.00174\n",
      "Epoch: 1900, loss: 0.00173\n"
     ]
    }
   ],
   "source": [
    "for epoch in range(num_epochs):\n",
    "    outputs = lstm(trainX)\n",
    "    optimizer.zero_grad()\n",
    "    loss = criterion(outputs, trainY)\n",
    "    loss.backward()\n",
    "    optimizer.step()\n",
    "    if epoch % 100 == 0:\n",
    "        print(\"Epoch: %d, loss: %1.5f\" % (epoch, loss.item()))"
   ]
  },
  {
   "cell_type": "code",
   "execution_count": 145,
   "id": "0cdcb770",
   "metadata": {},
   "outputs": [],
   "source": [
    "lstm.eval()\n",
    "train_predict = lstm(dataX)"
   ]
  },
  {
   "cell_type": "code",
   "execution_count": 146,
   "id": "dbeda378",
   "metadata": {},
   "outputs": [
    {
     "data": {
      "text/plain": [
       "tensor([[0.0502],\n",
       "        [0.0394],\n",
       "        [0.0749],\n",
       "        [0.0927],\n",
       "        [0.0897],\n",
       "        [0.0667],\n",
       "        [0.0354],\n",
       "        [0.0076],\n",
       "        [0.0422],\n",
       "        [0.0215],\n",
       "        [0.0545],\n",
       "        [0.0804],\n",
       "        [0.0611],\n",
       "        [0.0479],\n",
       "        [0.1065],\n",
       "        [0.1356],\n",
       "        [0.1306],\n",
       "        [0.1102],\n",
       "        [0.0599],\n",
       "        [0.0290],\n",
       "        [0.0910],\n",
       "        [0.0794],\n",
       "        [0.0987],\n",
       "        [0.1611],\n",
       "        [0.1076],\n",
       "        [0.1511],\n",
       "        [0.1506],\n",
       "        [0.1997],\n",
       "        [0.1856],\n",
       "        [0.1587],\n",
       "        [0.1177],\n",
       "        [0.0909],\n",
       "        [0.1404],\n",
       "        [0.1328],\n",
       "        [0.1592],\n",
       "        [0.1837],\n",
       "        [0.1489],\n",
       "        [0.1678],\n",
       "        [0.2417],\n",
       "        [0.2447],\n",
       "        [0.2765],\n",
       "        [0.1912],\n",
       "        [0.1813],\n",
       "        [0.1359],\n",
       "        [0.1970],\n",
       "        [0.1787],\n",
       "        [0.1875],\n",
       "        [0.2794],\n",
       "        [0.2458],\n",
       "        [0.2485],\n",
       "        [0.2824],\n",
       "        [0.3174],\n",
       "        [0.3244],\n",
       "        [0.2426],\n",
       "        [0.2142],\n",
       "        [0.1475],\n",
       "        [0.2132],\n",
       "        [0.1937],\n",
       "        [0.1647],\n",
       "        [0.2854],\n",
       "        [0.2240],\n",
       "        [0.2668],\n",
       "        [0.3237],\n",
       "        [0.3898],\n",
       "        [0.3481],\n",
       "        [0.2888],\n",
       "        [0.2422],\n",
       "        [0.1936],\n",
       "        [0.2659],\n",
       "        [0.2681],\n",
       "        [0.2486],\n",
       "        [0.3374],\n",
       "        [0.3102],\n",
       "        [0.3244],\n",
       "        [0.4232],\n",
       "        [0.4965],\n",
       "        [0.4334],\n",
       "        [0.3813],\n",
       "        [0.3153],\n",
       "        [0.2509],\n",
       "        [0.3640],\n",
       "        [0.3348],\n",
       "        [0.3316],\n",
       "        [0.4266],\n",
       "        [0.3823],\n",
       "        [0.4113],\n",
       "        [0.5247],\n",
       "        [0.5681],\n",
       "        [0.5357],\n",
       "        [0.4385],\n",
       "        [0.3670],\n",
       "        [0.3132],\n",
       "        [0.4082],\n",
       "        [0.3923],\n",
       "        [0.3676],\n",
       "        [0.5005],\n",
       "        [0.4353],\n",
       "        [0.4752],\n",
       "        [0.6039],\n",
       "        [0.6481],\n",
       "        [0.6362],\n",
       "        [0.5060],\n",
       "        [0.4317],\n",
       "        [0.3677],\n",
       "        [0.4577],\n",
       "        [0.4324],\n",
       "        [0.3924],\n",
       "        [0.5063],\n",
       "        [0.4337],\n",
       "        [0.4932],\n",
       "        [0.6239],\n",
       "        [0.6918],\n",
       "        [0.6965],\n",
       "        [0.4786],\n",
       "        [0.4678],\n",
       "        [0.3651],\n",
       "        [0.4601],\n",
       "        [0.4769],\n",
       "        [0.4296],\n",
       "        [0.5847],\n",
       "        [0.5116],\n",
       "        [0.5863],\n",
       "        [0.6679],\n",
       "        [0.7810],\n",
       "        [0.7700],\n",
       "        [0.5774],\n",
       "        [0.5305],\n",
       "        [0.4565],\n",
       "        [0.5740],\n",
       "        [0.5600],\n",
       "        [0.5074],\n",
       "        [0.5874],\n",
       "        [0.6459],\n",
       "        [0.6471],\n",
       "        [0.7630],\n",
       "        [0.8775],\n",
       "        [0.8254],\n",
       "        [0.6487],\n",
       "        [0.6142]], grad_fn=<AddmmBackward0>)"
      ]
     },
     "execution_count": 146,
     "metadata": {},
     "output_type": "execute_result"
    }
   ],
   "source": [
    "train_predict"
   ]
  },
  {
   "cell_type": "code",
   "execution_count": 148,
   "id": "e8a02818",
   "metadata": {},
   "outputs": [
    {
     "data": {
      "image/png": "[encoded data removed]",
      "text/plain": [
       "<Figure size 640x480 with 1 Axes>"
      ]
     },
     "metadata": {},
     "output_type": "display_data"
    }
   ],
   "source": [
    "data_predict = train_predict.data.numpy()\n",
    "dataY_plot = dataY.data.numpy()\n",
    "\n",
    "data_predict = sc.inverse_transform(data_predict)\n",
    "dataY_plot = sc.inverse_transform(dataY_plot)\n",
    "\n",
    "plt.axvline(x=train_size, c='r', linestyle='--')\n",
    "\n",
    "plt.plot(dataY_plot)\n",
    "plt.plot(data_predict)\n",
    "plt.suptitle('Time-Series Prediction')\n",
    "plt.show()"
   ]
  },
  {
   "cell_type": "code",
   "execution_count": 153,
   "id": "33fa7a4d",
   "metadata": {},
   "outputs": [
    {
     "data": {
      "text/plain": [
       "tensor([[0.3923]], grad_fn=<AddmmBackward0>)"
      ]
     },
     "execution_count": 153,
     "metadata": {},
     "output_type": "execute_result"
    }
   ],
   "source": [
    "lstm(testX[0].unsqueeze(0))"
   ]
  },
  {
   "cell_type": "code",
   "execution_count": 233,
   "id": "149a9775",
   "metadata": {},
   "outputs": [
    {
     "data": {
      "text/plain": [
       "tensor([[0.3818]], grad_fn=<AddmmBackward0>)"
      ]
     },
     "execution_count": 233,
     "metadata": {},
     "output_type": "execute_result"
    }
   ],
   "source": [
    "lstm(inp.unsqueeze(0))"
   ]
  },
  {
   "cell_type": "code",
   "execution_count": 236,
   "id": "c1e70637",
   "metadata": {},
   "outputs": [],
   "source": [
    "with torch.no_grad():\n",
    "    outs = []\n",
    "    for i in range(0,30):\n",
    "        if i ==0:\n",
    "            inp = testX[0].unsqueeze(0)\n",
    "        else:\n",
    "            inp = inp.unsqueeze(0)\n",
    "        ou = lstm(inp)\n",
    "        inp = inp[0][1:4]\n",
    "        inp = torch.cat((inp,ou),dim=0)\n",
    "        outs.append(ou)"
   ]
  },
  {
   "cell_type": "code",
   "execution_count": 237,
   "id": "95de123a",
   "metadata": {
    "scrolled": true
   },
   "outputs": [
    {
     "data": {
      "text/plain": [
       "[tensor([[0.3923]]),\n",
       " tensor([[0.3818]]),\n",
       " tensor([[0.3767]]),\n",
       " tensor([[0.3716]]),\n",
       " tensor([[0.3666]]),\n",
       " tensor([[0.3623]]),\n",
       " tensor([[0.3588]]),\n",
       " tensor([[0.3557]]),\n",
       " tensor([[0.3530]]),\n",
       " tensor([[0.3507]]),\n",
       " tensor([[0.3487]]),\n",
       " tensor([[0.3469]]),\n",
       " tensor([[0.3454]]),\n",
       " tensor([[0.3440]]),\n",
       " tensor([[0.3428]]),\n",
       " tensor([[0.3418]]),\n",
       " tensor([[0.3409]]),\n",
       " tensor([[0.3401]]),\n",
       " tensor([[0.3394]]),\n",
       " tensor([[0.3388]]),\n",
       " tensor([[0.3383]]),\n",
       " tensor([[0.3378]]),\n",
       " tensor([[0.3374]]),\n",
       " tensor([[0.3370]]),\n",
       " tensor([[0.3367]]),\n",
       " tensor([[0.3364]]),\n",
       " tensor([[0.3361]]),\n",
       " tensor([[0.3359]]),\n",
       " tensor([[0.3357]]),\n",
       " tensor([[0.3355]])]"
      ]
     },
     "execution_count": 237,
     "metadata": {},
     "output_type": "execute_result"
    }
   ],
   "source": [
    "outs # prediction for the next 30 days "
   ]
  },
  {
   "cell_type": "code",
   "execution_count": 238,
   "id": "a0006a0f",
   "metadata": {
    "scrolled": true
   },
   "outputs": [
    {
     "data": {
      "text/plain": [
       "tensor([[0.3803],\n",
       "        [0.4865],\n",
       "        [0.4710],\n",
       "        [0.4846],\n",
       "        [0.6139],\n",
       "        [0.6969],\n",
       "        [0.7008],\n",
       "        [0.5792],\n",
       "        [0.4691],\n",
       "        [0.3880],\n",
       "        [0.4479],\n",
       "        [0.4556],\n",
       "        [0.4131],\n",
       "        [0.4981],\n",
       "        [0.4710],\n",
       "        [0.5000],\n",
       "        [0.6390],\n",
       "        [0.7471],\n",
       "        [0.7741],\n",
       "        [0.5792],\n",
       "        [0.4923],\n",
       "        [0.3977],\n",
       "        [0.4498],\n",
       "        [0.4942],\n",
       "        [0.4595],\n",
       "        [0.5830],\n",
       "        [0.5637],\n",
       "        [0.6100],\n",
       "        [0.7104],\n",
       "        [0.8571],\n",
       "        [0.8784],\n",
       "        [0.6931],\n",
       "        [0.5849],\n",
       "        [0.4981],\n",
       "        [0.5811],\n",
       "        [0.6042],\n",
       "        [0.5541],\n",
       "        [0.6081],\n",
       "        [0.6892],\n",
       "        [0.7104],\n",
       "        [0.8320],\n",
       "        [1.0000],\n",
       "        [0.9691],\n",
       "        [0.7799],\n",
       "        [0.6892],\n",
       "        [0.5521]])"
      ]
     },
     "execution_count": 238,
     "metadata": {},
     "output_type": "execute_result"
    }
   ],
   "source": [
    "testY"
   ]
  },
  {
   "cell_type": "code",
   "execution_count": null,
   "id": "9fa3e3fc",
   "metadata": {},
   "outputs": [],
   "source": []
  }
 ],
 "metadata": {
  "kernelspec": {
   "display_name": "Python 3 (ipykernel)",
   "language": "python",
   "name": "python3"
  },
  "language_info": {
   "codemirror_mode": {
    "name": "ipython",
    "version": 3
   },
   "file_extension": ".py",
   "mimetype": "text/x-python",
   "name": "python",
   "nbconvert_exporter": "python",
   "pygments_lexer": "ipython3",
   "version": "3.11.4"
  }
 },
 "nbformat": 4,
 "nbformat_minor": 5
}
