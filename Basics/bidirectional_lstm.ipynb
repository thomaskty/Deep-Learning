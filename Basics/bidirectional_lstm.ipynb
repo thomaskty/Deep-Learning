{
 "cells": [
  {
   "cell_type": "code",
   "execution_count": 1,
   "id": "15b6d60a",
   "metadata": {},
   "outputs": [],
   "source": [
    "import torch"
   ]
  },
  {
   "cell_type": "code",
   "execution_count": 2,
   "id": "b616e6a2",
   "metadata": {},
   "outputs": [
    {
     "data": {
      "text/plain": [
       "'2.0.0'"
      ]
     },
     "execution_count": 2,
     "metadata": {},
     "output_type": "execute_result"
    }
   ],
   "source": [
    "torch.__version__"
   ]
  },
  {
   "cell_type": "code",
   "execution_count": 3,
   "id": "5f098bff",
   "metadata": {},
   "outputs": [],
   "source": [
    "class BLSTM(torch.nn.Module):\n",
    "    def __init__(self,input_size,hidden_units,n_layers):\n",
    "        super(BLSTM,self).__init__()\n",
    "        self.lstm = torch.nn.LSTM(input_size,hidden_units,n_layers,bidirectional = True,batch_first = True)\n",
    "        \n",
    "    def forward(self,input_tensor):\n",
    "        output,(hidden,cell) = self.lstm(input_tensor)\n",
    "        return output,hidden,cell"
   ]
  },
  {
   "cell_type": "code",
   "execution_count": 4,
   "id": "5e26de86",
   "metadata": {},
   "outputs": [],
   "source": [
    "class ULSTM(torch.nn.Module):\n",
    "    def __init__(self,input_size,hidden_units,n_layers):\n",
    "        super(ULSTM,self).__init__()\n",
    "        self.lstm = torch.nn.LSTM(input_size,hidden_units,n_layers,bidirectional = False,batch_first = True)\n",
    "        \n",
    "    def forward(self,input_tensor):\n",
    "        output,(hidden,cell) = self.lstm(input_tensor)\n",
    "        return output,hidden,cell"
   ]
  },
  {
   "cell_type": "code",
   "execution_count": 9,
   "id": "a0397b73",
   "metadata": {},
   "outputs": [],
   "source": [
    "hidden_units = 5 \n",
    "n_layers = 1 \n",
    "timesteps = 3\n",
    "batch_size =2\n",
    "input_size = 7"
   ]
  },
  {
   "cell_type": "code",
   "execution_count": 11,
   "id": "38038102",
   "metadata": {},
   "outputs": [
    {
     "data": {
      "text/plain": [
       "torch.Size([2, 3, 7])"
      ]
     },
     "execution_count": 11,
     "metadata": {},
     "output_type": "execute_result"
    }
   ],
   "source": [
    "input_tensor = torch.randn(size=(batch_size,timesteps,input_size)) \n",
    "input_tensor.shape # 2 batches,3 tokens,7 features"
   ]
  },
  {
   "cell_type": "code",
   "execution_count": 12,
   "id": "09b2b3dd",
   "metadata": {},
   "outputs": [
    {
     "data": {
      "text/plain": [
       "tensor([[[-4.6078e-01,  3.1411e-01, -3.9345e-01,  1.1954e-02, -1.9683e+00,\n",
       "          -8.4002e-01, -8.3430e-01],\n",
       "         [-7.0688e-01, -1.5562e-03, -1.4663e-01,  5.0143e-02, -1.3607e+00,\n",
       "           1.1165e+00,  2.6314e-01],\n",
       "         [ 6.0850e-01, -1.1142e+00, -9.4470e-02, -1.6163e-01,  2.6845e-01,\n",
       "           1.8741e-01,  1.9345e-01]],\n",
       "\n",
       "        [[ 2.3831e+00, -1.9397e-01, -3.5056e-01,  1.2811e-03,  8.9334e-01,\n",
       "           1.6937e+00,  9.1503e-01],\n",
       "         [ 6.7038e-01,  5.4674e-01, -1.1532e+00, -3.5611e-01,  4.9124e-02,\n",
       "          -4.6650e-01,  9.5078e-01],\n",
       "         [-7.5790e-01,  4.3687e-01, -1.0456e+00, -9.8695e-01,  1.0886e+00,\n",
       "           2.9417e-01,  1.2182e+00]]])"
      ]
     },
     "execution_count": 12,
     "metadata": {},
     "output_type": "execute_result"
    }
   ],
   "source": [
    "input_tensor"
   ]
  },
  {
   "cell_type": "code",
   "execution_count": 20,
   "id": "efd4a767",
   "metadata": {},
   "outputs": [],
   "source": [
    "blstm = BLSTM(input_size,hidden_units,n_layers)\n",
    "ulstm = ULSTM(input_size,hidden_units,n_layers)"
   ]
  },
  {
   "cell_type": "code",
   "execution_count": 21,
   "id": "82165878",
   "metadata": {},
   "outputs": [
    {
     "data": {
      "text/plain": [
       "BLSTM(\n",
       "  (lstm): LSTM(7, 5, batch_first=True, bidirectional=True)\n",
       ")"
      ]
     },
     "execution_count": 21,
     "metadata": {},
     "output_type": "execute_result"
    }
   ],
   "source": [
    "blstm"
   ]
  },
  {
   "cell_type": "code",
   "execution_count": 22,
   "id": "68d8a2b7",
   "metadata": {},
   "outputs": [
    {
     "data": {
      "text/plain": [
       "ULSTM(\n",
       "  (lstm): LSTM(7, 5, batch_first=True)\n",
       ")"
      ]
     },
     "execution_count": 22,
     "metadata": {},
     "output_type": "execute_result"
    }
   ],
   "source": [
    "ulstm"
   ]
  },
  {
   "cell_type": "code",
   "execution_count": 23,
   "id": "4bef7a24",
   "metadata": {},
   "outputs": [],
   "source": [
    "ulstm = ULSTM(input_size,hidden_units,n_layers=1)"
   ]
  },
  {
   "cell_type": "code",
   "execution_count": 24,
   "id": "c5c6b18a",
   "metadata": {},
   "outputs": [],
   "source": [
    "lstm_output,lstm_hidden,lstm_cell = ulstm(input_tensor)"
   ]
  },
  {
   "cell_type": "code",
   "execution_count": 25,
   "id": "846b0820",
   "metadata": {},
   "outputs": [
    {
     "data": {
      "text/plain": [
       "tensor([[[-0.0696,  0.0567,  0.3007,  0.1432, -0.1309],\n",
       "         [-0.1405,  0.2685,  0.4282, -0.0762, -0.0924],\n",
       "         [-0.1389,  0.0556,  0.1144,  0.0413, -0.1802]],\n",
       "\n",
       "        [[ 0.0047,  0.1243, -0.0229, -0.2999,  0.0050],\n",
       "         [-0.0381, -0.0792,  0.1330,  0.0447, -0.1051],\n",
       "         [-0.1483, -0.1258,  0.2783,  0.0280, -0.1503]]],\n",
       "       grad_fn=<TransposeBackward0>)"
      ]
     },
     "execution_count": 25,
     "metadata": {},
     "output_type": "execute_result"
    }
   ],
   "source": [
    "lstm_output # at each time whats the lstm output"
   ]
  },
  {
   "cell_type": "code",
   "execution_count": 27,
   "id": "18375889",
   "metadata": {},
   "outputs": [
    {
     "data": {
      "text/plain": [
       "tensor([[[-0.1389,  0.0556,  0.1144,  0.0413, -0.1802],\n",
       "         [-0.1483, -0.1258,  0.2783,  0.0280, -0.1503]]],\n",
       "       grad_fn=<StackBackward0>)"
      ]
     },
     "execution_count": 27,
     "metadata": {},
     "output_type": "execute_result"
    }
   ],
   "source": [
    "lstm_hidden  # represents the last hidden states of both records in the batch"
   ]
  },
  {
   "cell_type": "code",
   "execution_count": 28,
   "id": "c061cfd7",
   "metadata": {},
   "outputs": [
    {
     "data": {
      "text/plain": [
       "tensor([[[-0.3425,  0.0870,  0.2907,  0.0770, -0.2978],\n",
       "         [-0.2746, -0.1988,  0.4332,  0.0504, -0.5045]]],\n",
       "       grad_fn=<StackBackward0>)"
      ]
     },
     "execution_count": 28,
     "metadata": {},
     "output_type": "execute_result"
    }
   ],
   "source": [
    "lstm_cell"
   ]
  },
  {
   "cell_type": "markdown",
   "id": "59a0d4c4",
   "metadata": {},
   "source": [
    "## Bidirectional/Unidirectional with n_layers =1 "
   ]
  },
  {
   "cell_type": "code",
   "execution_count": 16,
   "id": "76a599f2",
   "metadata": {},
   "outputs": [
    {
     "data": {
      "text/plain": [
       "(torch.Size([2, 3, 10]), torch.Size([2, 2, 5]), torch.Size([2, 2, 5]))"
      ]
     },
     "execution_count": 16,
     "metadata": {},
     "output_type": "execute_result"
    }
   ],
   "source": [
    "lstm_output,lstm_hidden,lstm_cell = blstm(input_tensor)\n",
    "lstm_output.shape,lstm_hidden.shape,lstm_cell.shape"
   ]
  },
  {
   "cell_type": "code",
   "execution_count": 117,
   "id": "48579a17",
   "metadata": {},
   "outputs": [
    {
     "data": {
      "text/plain": [
       "torch.Size([1, 3, 10])"
      ]
     },
     "execution_count": 117,
     "metadata": {},
     "output_type": "execute_result"
    }
   ],
   "source": [
    "m = lstm_output*2 + lstm_output\n",
    "m.shape"
   ]
  },
  {
   "cell_type": "code",
   "execution_count": 106,
   "id": "12d894fc",
   "metadata": {},
   "outputs": [
    {
     "data": {
      "text/plain": [
       "(torch.Size([1, 3, 5]), torch.Size([1, 1, 5]), torch.Size([1, 1, 5]))"
      ]
     },
     "execution_count": 106,
     "metadata": {},
     "output_type": "execute_result"
    }
   ],
   "source": [
    "lstm_output,lstm_hidden,lstm_cell = ulstm(input_tensor)\n",
    "lstm_output.shape,lstm_hidden.shape,lstm_cell.shape"
   ]
  },
  {
   "cell_type": "markdown",
   "id": "2070da7c",
   "metadata": {},
   "source": [
    "## Bidirectional/Unidirectional with n_layers =2"
   ]
  },
  {
   "cell_type": "code",
   "execution_count": 107,
   "id": "192161fa",
   "metadata": {},
   "outputs": [],
   "source": [
    "blstm = BLSTM(input_size,hidden_units,n_layers=2)\n",
    "ulstm = ULSTM(input_size,hidden_units,n_layers=2)"
   ]
  },
  {
   "cell_type": "code",
   "execution_count": 108,
   "id": "0eeee296",
   "metadata": {},
   "outputs": [
    {
     "data": {
      "text/plain": [
       "(torch.Size([1, 3, 10]), torch.Size([4, 1, 5]), torch.Size([4, 1, 5]))"
      ]
     },
     "execution_count": 108,
     "metadata": {},
     "output_type": "execute_result"
    }
   ],
   "source": [
    "lstm_output,lstm_hidden,lstm_cell = blstm(input_tensor)\n",
    "lstm_output.shape,lstm_hidden.shape,lstm_cell.shape"
   ]
  },
  {
   "cell_type": "code",
   "execution_count": 109,
   "id": "a90c9e7b",
   "metadata": {},
   "outputs": [
    {
     "data": {
      "text/plain": [
       "(torch.Size([1, 3, 5]), torch.Size([2, 1, 5]), torch.Size([2, 1, 5]))"
      ]
     },
     "execution_count": 109,
     "metadata": {},
     "output_type": "execute_result"
    }
   ],
   "source": [
    "lstm_output,lstm_hidden,lstm_cell = ulstm(input_tensor)\n",
    "lstm_output.shape,lstm_hidden.shape,lstm_cell.shape"
   ]
  },
  {
   "cell_type": "code",
   "execution_count": null,
   "id": "ae25f04e",
   "metadata": {},
   "outputs": [],
   "source": []
  },
  {
   "cell_type": "code",
   "execution_count": null,
   "id": "877b4cad",
   "metadata": {},
   "outputs": [],
   "source": []
  }
 ],
 "metadata": {
  "kernelspec": {
   "display_name": "Python 3 (ipykernel)",
   "language": "python",
   "name": "python3"
  },
  "language_info": {
   "codemirror_mode": {
    "name": "ipython",
    "version": 3
   },
   "file_extension": ".py",
   "mimetype": "text/x-python",
   "name": "python",
   "nbconvert_exporter": "python",
   "pygments_lexer": "ipython3",
   "version": "3.10.9"
  },
  "vscode": {
   "interpreter": {
    "hash": "ca9c90c9b299e3c35d28bc96236d8f2c0bd3d51256cb5ad616950692d4a1a879"
   }
  }
 },
 "nbformat": 4,
 "nbformat_minor": 5
}
