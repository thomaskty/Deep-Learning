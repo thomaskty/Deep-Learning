{
 "cells": [
  {
   "cell_type": "code",
   "execution_count": 1,
   "id": "15b6d60a",
   "metadata": {},
   "outputs": [],
   "source": [
    "import torch"
   ]
  },
  {
   "cell_type": "code",
   "execution_count": 74,
   "id": "5e26de86",
   "metadata": {},
   "outputs": [],
   "source": [
    "class BLSTM(torch.nn.Module):\n",
    "    def __init__(self,input_size,hidden_units,n_layers):\n",
    "        super(BLSTM,self).__init__()\n",
    "        self.lstm = torch.nn.LSTM(input_size,hidden_units,n_layers,bidirectional = True,batch_first = True)\n",
    "        \n",
    "    def forward(self,input_tensor):\n",
    "        output,(hidden,cell) = self.lstm(input_tensor)\n",
    "        return output,hidden,cell\n",
    "    \n",
    "class ULSTM(torch.nn.Module):\n",
    "    def __init__(self,input_size,hidden_units,n_layers):\n",
    "        super(ULSTM,self).__init__()\n",
    "        self.lstm = torch.nn.LSTM(input_size,hidden_units,n_layers,bidirectional = False,batch_first = True)\n",
    "        \n",
    "    def forward(self,input_tensor):\n",
    "        output,(hidden,cell) = self.lstm(input_tensor)\n",
    "        return output,hidden,cell"
   ]
  },
  {
   "cell_type": "code",
   "execution_count": 99,
   "id": "a0397b73",
   "metadata": {},
   "outputs": [],
   "source": [
    "hidden_units = 5 \n",
    "n_layers = 1 \n",
    "timesteps = 3\n",
    "batch_size =1\n",
    "input_size = 7"
   ]
  },
  {
   "cell_type": "code",
   "execution_count": 100,
   "id": "38038102",
   "metadata": {},
   "outputs": [
    {
     "data": {
      "text/plain": [
       "torch.Size([1, 3, 7])"
      ]
     },
     "execution_count": 100,
     "metadata": {},
     "output_type": "execute_result"
    }
   ],
   "source": [
    "input_tensor = torch.randn(size=(batch_size,timesteps,input_size)) \n",
    "input_tensor.shape # 2 batches,3 tokens,7 features"
   ]
  },
  {
   "cell_type": "code",
   "execution_count": 101,
   "id": "09b2b3dd",
   "metadata": {},
   "outputs": [
    {
     "data": {
      "text/plain": [
       "tensor([[[ 1.0767, -1.5542,  1.8992,  0.9849,  0.1440,  0.9024,  0.0755],\n",
       "         [ 0.6676,  0.5383, -0.1899,  0.3328, -0.4109,  0.3218, -0.9518],\n",
       "         [ 0.5405, -1.4770,  0.8405, -1.5147, -1.3946, -0.1147, -0.1649]]])"
      ]
     },
     "execution_count": 101,
     "metadata": {},
     "output_type": "execute_result"
    }
   ],
   "source": [
    "input_tensor"
   ]
  },
  {
   "cell_type": "code",
   "execution_count": 102,
   "id": "efd4a767",
   "metadata": {},
   "outputs": [],
   "source": [
    "blstm = BLSTM(input_size,hidden_units,n_layers)\n",
    "ulstm = ULSTM(input_size,hidden_units,n_layers)"
   ]
  },
  {
   "cell_type": "code",
   "execution_count": 103,
   "id": "82165878",
   "metadata": {},
   "outputs": [
    {
     "data": {
      "text/plain": [
       "BLSTM(\n",
       "  (lstm): LSTM(7, 5, batch_first=True, bidirectional=True)\n",
       ")"
      ]
     },
     "execution_count": 103,
     "metadata": {},
     "output_type": "execute_result"
    }
   ],
   "source": [
    "blstm"
   ]
  },
  {
   "cell_type": "code",
   "execution_count": 104,
   "id": "68d8a2b7",
   "metadata": {},
   "outputs": [
    {
     "data": {
      "text/plain": [
       "ULSTM(\n",
       "  (lstm): LSTM(7, 5, batch_first=True)\n",
       ")"
      ]
     },
     "execution_count": 104,
     "metadata": {},
     "output_type": "execute_result"
    }
   ],
   "source": [
    "ulstm"
   ]
  },
  {
   "cell_type": "markdown",
   "id": "59a0d4c4",
   "metadata": {},
   "source": [
    "## Bidirectional/Unidirectional with n_layers =1 "
   ]
  },
  {
   "cell_type": "code",
   "execution_count": 110,
   "id": "76a599f2",
   "metadata": {},
   "outputs": [
    {
     "data": {
      "text/plain": [
       "(torch.Size([1, 3, 10]), torch.Size([4, 1, 5]), torch.Size([4, 1, 5]))"
      ]
     },
     "execution_count": 110,
     "metadata": {},
     "output_type": "execute_result"
    }
   ],
   "source": [
    "lstm_output,lstm_hidden,lstm_cell = blstm(input_tensor)\n",
    "lstm_output.shape,lstm_hidden.shape,lstm_cell.shape"
   ]
  },
  {
   "cell_type": "code",
   "execution_count": 117,
   "id": "48579a17",
   "metadata": {},
   "outputs": [
    {
     "data": {
      "text/plain": [
       "torch.Size([1, 3, 10])"
      ]
     },
     "execution_count": 117,
     "metadata": {},
     "output_type": "execute_result"
    }
   ],
   "source": [
    "m = lstm_output*2 + lstm_output\n",
    "m.shape"
   ]
  },
  {
   "cell_type": "code",
   "execution_count": 106,
   "id": "12d894fc",
   "metadata": {},
   "outputs": [
    {
     "data": {
      "text/plain": [
       "(torch.Size([1, 3, 5]), torch.Size([1, 1, 5]), torch.Size([1, 1, 5]))"
      ]
     },
     "execution_count": 106,
     "metadata": {},
     "output_type": "execute_result"
    }
   ],
   "source": [
    "lstm_output,lstm_hidden,lstm_cell = ulstm(input_tensor)\n",
    "lstm_output.shape,lstm_hidden.shape,lstm_cell.shape"
   ]
  },
  {
   "cell_type": "markdown",
   "id": "2070da7c",
   "metadata": {},
   "source": [
    "## Bidirectional/Unidirectional with n_layers =2"
   ]
  },
  {
   "cell_type": "code",
   "execution_count": 107,
   "id": "192161fa",
   "metadata": {},
   "outputs": [],
   "source": [
    "blstm = BLSTM(input_size,hidden_units,n_layers=2)\n",
    "ulstm = ULSTM(input_size,hidden_units,n_layers=2)"
   ]
  },
  {
   "cell_type": "code",
   "execution_count": 108,
   "id": "0eeee296",
   "metadata": {},
   "outputs": [
    {
     "data": {
      "text/plain": [
       "(torch.Size([1, 3, 10]), torch.Size([4, 1, 5]), torch.Size([4, 1, 5]))"
      ]
     },
     "execution_count": 108,
     "metadata": {},
     "output_type": "execute_result"
    }
   ],
   "source": [
    "lstm_output,lstm_hidden,lstm_cell = blstm(input_tensor)\n",
    "lstm_output.shape,lstm_hidden.shape,lstm_cell.shape"
   ]
  },
  {
   "cell_type": "code",
   "execution_count": 109,
   "id": "a90c9e7b",
   "metadata": {},
   "outputs": [
    {
     "data": {
      "text/plain": [
       "(torch.Size([1, 3, 5]), torch.Size([2, 1, 5]), torch.Size([2, 1, 5]))"
      ]
     },
     "execution_count": 109,
     "metadata": {},
     "output_type": "execute_result"
    }
   ],
   "source": [
    "lstm_output,lstm_hidden,lstm_cell = ulstm(input_tensor)\n",
    "lstm_output.shape,lstm_hidden.shape,lstm_cell.shape"
   ]
  },
  {
   "cell_type": "code",
   "execution_count": null,
   "id": "ae25f04e",
   "metadata": {},
   "outputs": [],
   "source": []
  },
  {
   "cell_type": "code",
   "execution_count": null,
   "id": "877b4cad",
   "metadata": {},
   "outputs": [],
   "source": []
  }
 ],
 "metadata": {
  "kernelspec": {
   "display_name": "Python 3 (ipykernel)",
   "language": "python",
   "name": "python3"
  },
  "language_info": {
   "codemirror_mode": {
    "name": "ipython",
    "version": 3
   },
   "file_extension": ".py",
   "mimetype": "text/x-python",
   "name": "python",
   "nbconvert_exporter": "python",
   "pygments_lexer": "ipython3",
   "version": "3.10.9"
  },
  "vscode": {
   "interpreter": {
    "hash": "ca9c90c9b299e3c35d28bc96236d8f2c0bd3d51256cb5ad616950692d4a1a879"
   }
  }
 },
 "nbformat": 4,
 "nbformat_minor": 5
}
