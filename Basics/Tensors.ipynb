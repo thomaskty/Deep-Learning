{
 "cells": [
  {
   "cell_type": "code",
   "execution_count": 1,
   "id": "7a03ac1e",
   "metadata": {},
   "outputs": [
    {
     "name": "stdout",
     "output_type": "stream",
     "text": [
      "1.13.0+cu117\n"
     ]
    }
   ],
   "source": [
    "import torch\n",
    "import numpy as np\n",
    "print(torch.__version__)"
   ]
  },
  {
   "cell_type": "markdown",
   "id": "e73fac24",
   "metadata": {},
   "source": [
    "## Creating Tensors"
   ]
  },
  {
   "cell_type": "code",
   "execution_count": 7,
   "id": "dc78c1f6",
   "metadata": {},
   "outputs": [
    {
     "data": {
      "text/plain": [
       "(tensor(3), 0, 3)"
      ]
     },
     "execution_count": 7,
     "metadata": {},
     "output_type": "execute_result"
    }
   ],
   "source": [
    "# scaler is a zero dimensional tensor \n",
    "scaler = torch.tensor(3) \n",
    "scaler,scaler.ndim,scaler.item()"
   ]
  },
  {
   "cell_type": "code",
   "execution_count": 17,
   "id": "df8f9eb7",
   "metadata": {},
   "outputs": [
    {
     "data": {
      "text/plain": [
       "(tensor([13,  2, 95,  3]), 1, torch.Size([4]))"
      ]
     },
     "execution_count": 17,
     "metadata": {},
     "output_type": "execute_result"
    }
   ],
   "source": [
    "# vectors is one dimensional tensor \n",
    "vector = torch.tensor([13,2,95,3])\n",
    "vector,vector.ndim,vector.shape # one dimensional vector with 4 elements inside"
   ]
  },
  {
   "cell_type": "code",
   "execution_count": 19,
   "id": "942a0e83",
   "metadata": {},
   "outputs": [
    {
     "data": {
      "text/plain": [
       "(tensor([[  1,   3,   5,   8],\n",
       "         [139, 498, 285, 877]]),\n",
       " 2,\n",
       " torch.Size([2, 4]))"
      ]
     },
     "execution_count": 19,
     "metadata": {},
     "output_type": "execute_result"
    }
   ],
   "source": [
    "matrix = torch.tensor([[1,3,5,8],[139,498,285,877]])\n",
    "matrix,matrix.ndim,matrix.shape"
   ]
  },
  {
   "cell_type": "code",
   "execution_count": 24,
   "id": "a7e6462f",
   "metadata": {
    "scrolled": true
   },
   "outputs": [
    {
     "data": {
      "text/plain": [
       "(tensor([[[  1,  39,  85],\n",
       "          [ 99,  94,  92],\n",
       "          [989, 485, 847],\n",
       "          [848,  32,  12]]]),\n",
       " 3,\n",
       " torch.Size([1, 4, 3]))"
      ]
     },
     "execution_count": 24,
     "metadata": {},
     "output_type": "execute_result"
    }
   ],
   "source": [
    "tensor = torch.tensor([[[1,39,85],[99,94,92],[989,485,847],[848,32,12]]])\n",
    "tensor,tensor.ndim,tensor.shape"
   ]
  },
  {
   "cell_type": "code",
   "execution_count": 28,
   "id": "746779a6",
   "metadata": {},
   "outputs": [
    {
     "data": {
      "text/plain": [
       "tensor([[[0.5724, 0.7703, 0.8459, 0.6550],\n",
       "         [0.4395, 0.3510, 0.2512, 0.4054],\n",
       "         [0.2212, 0.9766, 0.2224, 0.8548],\n",
       "         [0.8372, 0.8106, 0.7568, 0.6496],\n",
       "         [0.6992, 0.1917, 0.3436, 0.1542],\n",
       "         [0.2340, 0.3800, 0.0886, 0.1680]],\n",
       "\n",
       "        [[0.4366, 0.6757, 0.8636, 0.9165],\n",
       "         [0.7436, 0.5083, 0.1266, 0.3362],\n",
       "         [0.6353, 0.9030, 0.9316, 0.3925],\n",
       "         [0.9363, 0.4024, 0.1767, 0.2075],\n",
       "         [0.5795, 0.0774, 0.9808, 0.5687],\n",
       "         [0.0949, 0.3656, 0.2637, 0.4694]]])"
      ]
     },
     "execution_count": 28,
     "metadata": {},
     "output_type": "execute_result"
    }
   ],
   "source": [
    "random_tensor = torch.rand(size=(2,6,4))\n",
    "random_tensor"
   ]
  },
  {
   "cell_type": "code",
   "execution_count": 34,
   "id": "ec79d06e",
   "metadata": {},
   "outputs": [
    {
     "data": {
      "text/plain": [
       "(torch.Size([2, 6, 4]), torch.Size([2, 6, 4]), torch.float32)"
      ]
     },
     "execution_count": 34,
     "metadata": {},
     "output_type": "execute_result"
    }
   ],
   "source": [
    "random_tensor.shape,random_tensor.size(),random_tensor.dtype"
   ]
  },
  {
   "cell_type": "code",
   "execution_count": 35,
   "id": "f13ba415",
   "metadata": {},
   "outputs": [],
   "source": [
    "random_image_tensor = torch.rand(size = (3,224,224))"
   ]
  },
  {
   "cell_type": "code",
   "execution_count": 36,
   "id": "07cfbf97",
   "metadata": {},
   "outputs": [
    {
     "data": {
      "text/plain": [
       "tensor([[[0.2874, 0.5395, 0.0877,  ..., 0.4452, 0.7237, 0.8267],\n",
       "         [0.3717, 0.6723, 0.0625,  ..., 0.8563, 0.6390, 0.3849],\n",
       "         [0.9793, 0.6225, 0.0496,  ..., 0.4885, 0.8874, 0.0364],\n",
       "         ...,\n",
       "         [0.5973, 0.2907, 0.1087,  ..., 0.7633, 0.1053, 0.9919],\n",
       "         [0.0689, 0.6418, 0.7524,  ..., 0.0897, 0.2615, 0.7149],\n",
       "         [0.7814, 0.7555, 0.7151,  ..., 0.9115, 0.7646, 0.1663]],\n",
       "\n",
       "        [[0.7998, 0.6774, 0.9741,  ..., 0.3061, 0.2049, 0.0365],\n",
       "         [0.2222, 0.2923, 0.5954,  ..., 0.8394, 0.0559, 0.3342],\n",
       "         [0.9677, 0.8514, 0.3461,  ..., 0.7125, 0.1140, 0.6617],\n",
       "         ...,\n",
       "         [0.2198, 0.6306, 0.9968,  ..., 0.4170, 0.3388, 0.7686],\n",
       "         [0.0921, 0.6807, 0.7072,  ..., 0.2134, 0.2689, 0.4710],\n",
       "         [0.2259, 0.0076, 0.4561,  ..., 0.4641, 0.5137, 0.3500]],\n",
       "\n",
       "        [[0.4535, 0.7591, 0.3024,  ..., 0.1509, 0.0175, 0.7571],\n",
       "         [0.9331, 0.2505, 0.5421,  ..., 0.7534, 0.2722, 0.2664],\n",
       "         [0.6459, 0.3758, 0.4443,  ..., 0.5658, 0.0965, 0.6020],\n",
       "         ...,\n",
       "         [0.4212, 0.0827, 0.9835,  ..., 0.1423, 0.0896, 0.8204],\n",
       "         [0.4910, 0.5979, 0.8972,  ..., 0.7278, 0.0835, 0.3038],\n",
       "         [0.7459, 0.0610, 0.6410,  ..., 0.6958, 0.2155, 0.8945]]])"
      ]
     },
     "execution_count": 36,
     "metadata": {},
     "output_type": "execute_result"
    }
   ],
   "source": [
    "random_image_tensor"
   ]
  },
  {
   "cell_type": "code",
   "execution_count": 40,
   "id": "1b1c89a2",
   "metadata": {},
   "outputs": [
    {
     "data": {
      "text/plain": [
       "tensor([[[1., 1., 1., 1.],\n",
       "         [1., 1., 1., 1.],\n",
       "         [1., 1., 1., 1.]]])"
      ]
     },
     "execution_count": 40,
     "metadata": {},
     "output_type": "execute_result"
    }
   ],
   "source": [
    "torch.ones(size = (1,3,4))"
   ]
  },
  {
   "cell_type": "code",
   "execution_count": 41,
   "id": "41063db8",
   "metadata": {},
   "outputs": [
    {
     "data": {
      "text/plain": [
       "tensor([[[0., 0., 0.],\n",
       "         [0., 0., 0.],\n",
       "         [0., 0., 0.],\n",
       "         [0., 0., 0.]]])"
      ]
     },
     "execution_count": 41,
     "metadata": {},
     "output_type": "execute_result"
    }
   ],
   "source": [
    "torch.zeros(size = (1,4,3))"
   ]
  },
  {
   "cell_type": "code",
   "execution_count": 43,
   "id": "9d32225f",
   "metadata": {},
   "outputs": [
    {
     "data": {
      "text/plain": [
       "tensor([0, 2, 4, 6, 8])"
      ]
     },
     "execution_count": 43,
     "metadata": {},
     "output_type": "execute_result"
    }
   ],
   "source": [
    "zero_to_ten = torch.arange(0,10,2)\n",
    "zero_to_ten"
   ]
  },
  {
   "cell_type": "code",
   "execution_count": 46,
   "id": "b3ecb89e",
   "metadata": {},
   "outputs": [
    {
     "data": {
      "text/plain": [
       "tensor([0, 0, 0, 0, 0])"
      ]
     },
     "execution_count": 46,
     "metadata": {},
     "output_type": "execute_result"
    }
   ],
   "source": [
    "torch.zeros_like(zero_to_ten) # torch.ones_like(zero_to_ten)"
   ]
  },
  {
   "cell_type": "code",
   "execution_count": 53,
   "id": "f576c1a0",
   "metadata": {},
   "outputs": [
    {
     "data": {
      "text/plain": [
       "tensor([[[0.5868, 0.6649, 0.1559, 0.6112],\n",
       "         [0.4529, 0.2443, 0.8916, 0.6496]]])"
      ]
     },
     "execution_count": 53,
     "metadata": {},
     "output_type": "execute_result"
    }
   ],
   "source": [
    "float_32_tensor = torch.rand(size=(1,2,4),dtype = None,device = None)\n",
    "float_32_tensor"
   ]
  },
  {
   "cell_type": "code",
   "execution_count": 64,
   "id": "ddc3cd03",
   "metadata": {},
   "outputs": [],
   "source": [
    "def show_tensor_info(tensor):\n",
    "    print(tensor)\n",
    "    print('Shape of the tensor : ',tensor.shape)\n",
    "    print('Dtype of the tensor : ',tensor.dtype)\n",
    "    print('Device tensor is stored on ',tensor.device)"
   ]
  },
  {
   "cell_type": "code",
   "execution_count": 65,
   "id": "4541e51e",
   "metadata": {},
   "outputs": [
    {
     "name": "stdout",
     "output_type": "stream",
     "text": [
      "tensor([[[0.5868, 0.6649, 0.1559, 0.6112],\n",
      "         [0.4529, 0.2443, 0.8916, 0.6496]]])\n",
      "Shape of the tensor :  torch.Size([1, 2, 4])\n",
      "Dtype of the tensor :  torch.float32\n",
      "Device tensor is stored on  cpu\n"
     ]
    }
   ],
   "source": [
    "show_tensor_info(float_32_tensor)"
   ]
  },
  {
   "cell_type": "code",
   "execution_count": 63,
   "id": "277e6f38",
   "metadata": {},
   "outputs": [],
   "source": [
    "float_16_tensor = torch.rand(size = (1,5,8),device = 'cpu',dtype = torch.float16)"
   ]
  },
  {
   "cell_type": "code",
   "execution_count": 66,
   "id": "69891795",
   "metadata": {},
   "outputs": [
    {
     "name": "stdout",
     "output_type": "stream",
     "text": [
      "tensor([[[0.7705, 0.7939, 0.4966, 0.8804, 0.2681, 0.6245, 0.3179, 0.7886],\n",
      "         [0.2271, 0.5303, 0.6323, 0.7085, 0.9570, 0.5737, 0.4888, 0.2407],\n",
      "         [0.4897, 0.0854, 0.9736, 0.5225, 0.0532, 0.6733, 0.1641, 0.6670],\n",
      "         [0.7808, 0.4697, 0.8716, 0.1851, 0.8359, 0.0947, 0.7666, 0.2275],\n",
      "         [0.4868, 0.0938, 0.1519, 0.8198, 0.0674, 0.9302, 0.2959, 0.8486]]],\n",
      "       dtype=torch.float16)\n",
      "Shape of the tensor :  torch.Size([1, 5, 8])\n",
      "Dtype of the tensor :  torch.float16\n",
      "Device tensor is stored on  cpu\n"
     ]
    }
   ],
   "source": [
    "show_tensor_info(float_16_tensor)"
   ]
  },
  {
   "cell_type": "markdown",
   "id": "7e2be97a",
   "metadata": {},
   "source": [
    "## Tensor Operations "
   ]
  },
  {
   "cell_type": "code",
   "execution_count": 88,
   "id": "e3b1a3f6",
   "metadata": {},
   "outputs": [
    {
     "data": {
      "text/plain": [
       "tensor([3, 8, 2, 4, 1], dtype=torch.int8)"
      ]
     },
     "execution_count": 88,
     "metadata": {},
     "output_type": "execute_result"
    }
   ],
   "source": [
    "tensor_a = torch.tensor([3,8,2,4,1],dtype = torch.int8,device = 'cpu')\n",
    "tensor_a"
   ]
  },
  {
   "cell_type": "code",
   "execution_count": 89,
   "id": "aa7be7f8",
   "metadata": {},
   "outputs": [
    {
     "data": {
      "text/plain": [
       "tensor([4, 9, 3, 5, 2], dtype=torch.int8)"
      ]
     },
     "execution_count": 89,
     "metadata": {},
     "output_type": "execute_result"
    }
   ],
   "source": [
    "tensor_a.add(2)  # not an inplace operation \n",
    "tensor_a.add_(1) # inplace operation"
   ]
  },
  {
   "cell_type": "code",
   "execution_count": 91,
   "id": "5bbe0ff8",
   "metadata": {},
   "outputs": [
    {
     "data": {
      "text/plain": [
       "tensor([ 7, 12,  6,  8,  5], dtype=torch.int8)"
      ]
     },
     "execution_count": 91,
     "metadata": {},
     "output_type": "execute_result"
    }
   ],
   "source": [
    "tensor_a+3"
   ]
  },
  {
   "cell_type": "code",
   "execution_count": 92,
   "id": "fe91b263",
   "metadata": {},
   "outputs": [
    {
     "data": {
      "text/plain": [
       "tensor([ 1,  6,  0,  2, -1], dtype=torch.int8)"
      ]
     },
     "execution_count": 92,
     "metadata": {},
     "output_type": "execute_result"
    }
   ],
   "source": [
    "tensor_a.sub_(3)"
   ]
  },
  {
   "cell_type": "code",
   "execution_count": 94,
   "id": "cde9b3e2",
   "metadata": {},
   "outputs": [
    {
     "data": {
      "text/plain": [
       "tensor([ 1,  6,  0,  2, -1], dtype=torch.int8)"
      ]
     },
     "execution_count": 94,
     "metadata": {},
     "output_type": "execute_result"
    }
   ],
   "source": [
    "tensor_a"
   ]
  },
  {
   "cell_type": "code",
   "execution_count": 100,
   "id": "8d414843",
   "metadata": {},
   "outputs": [],
   "source": [
    "tensor_b = torch.tensor([4,1,2,1,0]) # element wise multiplication "
   ]
  },
  {
   "cell_type": "code",
   "execution_count": 101,
   "id": "99cc0a30",
   "metadata": {},
   "outputs": [
    {
     "data": {
      "text/plain": [
       "tensor([4, 6, 0, 2, 0])"
      ]
     },
     "execution_count": 101,
     "metadata": {},
     "output_type": "execute_result"
    }
   ],
   "source": [
    "tensor_a*tensor_b"
   ]
  },
  {
   "cell_type": "code",
   "execution_count": 124,
   "id": "5db3df05",
   "metadata": {},
   "outputs": [
    {
     "data": {
      "text/plain": [
       "tensor([[3, 1],\n",
       "        [4, 1],\n",
       "        [0, 1],\n",
       "        [0, 0],\n",
       "        [0, 1]])"
      ]
     },
     "execution_count": 124,
     "metadata": {},
     "output_type": "execute_result"
    }
   ],
   "source": [
    "tensor_c = torch.tensor([[3,1],[4,1],[0,1],[0,0],[0,1]])\n",
    "tensor_c"
   ]
  },
  {
   "cell_type": "code",
   "execution_count": 127,
   "id": "821a0305",
   "metadata": {},
   "outputs": [
    {
     "data": {
      "text/plain": [
       "tensor([4, 1, 2, 1, 0])"
      ]
     },
     "execution_count": 127,
     "metadata": {},
     "output_type": "execute_result"
    }
   ],
   "source": [
    "tensor_b"
   ]
  },
  {
   "cell_type": "code",
   "execution_count": 130,
   "id": "3c5870e9",
   "metadata": {},
   "outputs": [
    {
     "data": {
      "text/plain": [
       "(torch.Size([5, 2]), torch.Size([5]))"
      ]
     },
     "execution_count": 130,
     "metadata": {},
     "output_type": "execute_result"
    }
   ],
   "source": [
    "tensor_c.shape,tensor_b.shape"
   ]
  },
  {
   "cell_type": "code",
   "execution_count": 131,
   "id": "0a694929",
   "metadata": {},
   "outputs": [
    {
     "data": {
      "text/plain": [
       "tensor([16,  7])"
      ]
     },
     "execution_count": 131,
     "metadata": {},
     "output_type": "execute_result"
    }
   ],
   "source": [
    "tensor_b.matmul(tensor_c)"
   ]
  },
  {
   "cell_type": "code",
   "execution_count": 134,
   "id": "0e225cde",
   "metadata": {},
   "outputs": [
    {
     "data": {
      "text/plain": [
       "tensor([[3, 4, 0, 0, 0],\n",
       "        [1, 1, 1, 0, 1]])"
      ]
     },
     "execution_count": 134,
     "metadata": {},
     "output_type": "execute_result"
    }
   ],
   "source": [
    "tensor_c.T"
   ]
  },
  {
   "cell_type": "markdown",
   "id": "170d07eb",
   "metadata": {},
   "source": [
    "## torch.nn.Linear"
   ]
  },
  {
   "cell_type": "code",
   "execution_count": 146,
   "id": "b2b05bcd",
   "metadata": {},
   "outputs": [
    {
     "data": {
      "text/plain": [
       "tensor([[1., 2.],\n",
       "        [3., 4.],\n",
       "        [5., 6.]])"
      ]
     },
     "execution_count": 146,
     "metadata": {},
     "output_type": "execute_result"
    }
   ],
   "source": [
    "tensor_a = torch.tensor([[1, 2],[3, 4],[5, 6]],dtype = torch.float32)\n",
    "tensor_a"
   ]
  },
  {
   "cell_type": "code",
   "execution_count": 147,
   "id": "bf350d8f",
   "metadata": {},
   "outputs": [
    {
     "data": {
      "text/plain": [
       "Linear(in_features=2, out_features=6, bias=True)"
      ]
     },
     "execution_count": 147,
     "metadata": {},
     "output_type": "execute_result"
    }
   ],
   "source": [
    "linear = torch.nn.Linear(2,6)\n",
    "linear"
   ]
  },
  {
   "cell_type": "code",
   "execution_count": 148,
   "id": "cff0c3ed",
   "metadata": {},
   "outputs": [],
   "source": [
    "output = linear(tensor_a)"
   ]
  },
  {
   "cell_type": "code",
   "execution_count": 149,
   "id": "59215c42",
   "metadata": {},
   "outputs": [
    {
     "data": {
      "text/plain": [
       "tensor([[ 0.2307,  1.8185,  0.8033,  0.8387, -0.3663, -0.2012],\n",
       "        [ 0.1191,  3.6163,  1.4421,  2.1875, -1.1498, -1.3732],\n",
       "        [ 0.0076,  5.4141,  2.0809,  3.5363, -1.9333, -2.5453]],\n",
       "       grad_fn=<AddmmBackward0>)"
      ]
     },
     "execution_count": 149,
     "metadata": {},
     "output_type": "execute_result"
    }
   ],
   "source": [
    "output"
   ]
  },
  {
   "cell_type": "markdown",
   "id": "5afc21fa",
   "metadata": {},
   "source": [
    "## Aggregations "
   ]
  },
  {
   "cell_type": "code",
   "execution_count": 153,
   "id": "0865da02",
   "metadata": {},
   "outputs": [
    {
     "data": {
      "text/plain": [
       "(tensor(-2.5453, grad_fn=<MinBackward1>),\n",
       " tensor(5.4141, grad_fn=<MaxBackward1>),\n",
       " tensor(0.8070, grad_fn=<MeanBackward0>))"
      ]
     },
     "execution_count": 153,
     "metadata": {},
     "output_type": "execute_result"
    }
   ],
   "source": [
    "output.min(),output.max(),output.mean()"
   ]
  },
  {
   "cell_type": "code",
   "execution_count": 155,
   "id": "cff7bbb0",
   "metadata": {},
   "outputs": [
    {
     "data": {
      "text/plain": [
       "(tensor(17), tensor(13))"
      ]
     },
     "execution_count": 155,
     "metadata": {},
     "output_type": "execute_result"
    }
   ],
   "source": [
    "output.argmin(),output.argmax()"
   ]
  },
  {
   "cell_type": "code",
   "execution_count": 160,
   "id": "d8da1d8a",
   "metadata": {},
   "outputs": [
    {
     "data": {
      "text/plain": [
       "(tensor([[2, 0, 0, 0, 2, 2],\n",
       "         [1, 1, 1, 1, 1, 1],\n",
       "         [0, 2, 2, 2, 0, 0]]),\n",
       " tensor([[4, 5, 0, 2, 3, 1],\n",
       "         [5, 4, 0, 2, 3, 1],\n",
       "         [5, 4, 0, 2, 3, 1]]))"
      ]
     },
     "execution_count": 160,
     "metadata": {},
     "output_type": "execute_result"
    }
   ],
   "source": [
    "output.argsort(axis = 0),output.argsort(axis =1)"
   ]
  },
  {
   "cell_type": "markdown",
   "id": "ce3f62dc",
   "metadata": {},
   "source": [
    "## Reshaping,Stacking,Squeezing"
   ]
  },
  {
   "cell_type": "code",
   "execution_count": 163,
   "id": "4423a846",
   "metadata": {},
   "outputs": [
    {
     "data": {
      "text/plain": [
       "tensor([[0.5873, 0.3549, 0.1438, 0.6859, 0.8104, 0.0905, 0.9596, 0.0146, 0.2502,\n",
       "         0.5280]])"
      ]
     },
     "execution_count": 163,
     "metadata": {},
     "output_type": "execute_result"
    }
   ],
   "source": [
    "tensor = torch.rand(size = (1,10))\n",
    "tensor"
   ]
  },
  {
   "cell_type": "code",
   "execution_count": 167,
   "id": "b74b7a5e",
   "metadata": {},
   "outputs": [
    {
     "data": {
      "text/plain": [
       "tensor([[0.5873, 0.3549, 0.1438, 0.6859, 0.8104],\n",
       "        [0.0905, 0.9596, 0.0146, 0.2502, 0.5280]])"
      ]
     },
     "execution_count": 167,
     "metadata": {},
     "output_type": "execute_result"
    }
   ],
   "source": [
    "new_tensor = tensor.reshape(2,5)\n",
    "new_tensor"
   ]
  },
  {
   "cell_type": "code",
   "execution_count": 168,
   "id": "36b5863f",
   "metadata": {},
   "outputs": [
    {
     "data": {
      "text/plain": [
       "tensor([[0.1907, 0.0787, 0.5939, 0.2674, 0.0409],\n",
       "        [0.1935, 0.0553, 0.1815, 0.0040, 0.9740]])"
      ]
     },
     "execution_count": 168,
     "metadata": {},
     "output_type": "execute_result"
    }
   ],
   "source": [
    "tensor_stack = torch.rand(size = (2,5))\n",
    "tensor_stack"
   ]
  },
  {
   "cell_type": "code",
   "execution_count": 189,
   "id": "5b14b8d9",
   "metadata": {},
   "outputs": [
    {
     "data": {
      "text/plain": [
       "torch.Size([2, 2, 5])"
      ]
     },
     "execution_count": 189,
     "metadata": {},
     "output_type": "execute_result"
    }
   ],
   "source": [
    "torch.stack([new_tensor,tensor_stack]).shape"
   ]
  },
  {
   "cell_type": "code",
   "execution_count": 182,
   "id": "59b1c600",
   "metadata": {},
   "outputs": [
    {
     "data": {
      "text/plain": [
       "tensor([1., 2., 3., 4., 5., 6., 7.])"
      ]
     },
     "execution_count": 182,
     "metadata": {},
     "output_type": "execute_result"
    }
   ],
   "source": [
    "x = torch.arange(1., 8.)\n",
    "x"
   ]
  },
  {
   "cell_type": "code",
   "execution_count": 191,
   "id": "99ccd4b2",
   "metadata": {},
   "outputs": [
    {
     "data": {
      "text/plain": [
       "(tensor([[1., 1.],\n",
       "         [2., 2.],\n",
       "         [3., 3.],\n",
       "         [4., 4.],\n",
       "         [5., 5.],\n",
       "         [6., 6.],\n",
       "         [7., 7.]]),\n",
       " tensor([[1., 2., 3., 4., 5., 6., 7.],\n",
       "         [1., 2., 3., 4., 5., 6., 7.]]))"
      ]
     },
     "execution_count": 191,
     "metadata": {},
     "output_type": "execute_result"
    }
   ],
   "source": [
    "torch.stack([x,x],dim=1),torch.stack([x,x],dim=0)"
   ]
  },
  {
   "cell_type": "code",
   "execution_count": 192,
   "id": "64dc46a1",
   "metadata": {},
   "outputs": [
    {
     "data": {
      "text/plain": [
       "tensor([[0.1907, 0.0787, 0.5939, 0.2674, 0.0409],\n",
       "        [0.1935, 0.0553, 0.1815, 0.0040, 0.9740]])"
      ]
     },
     "execution_count": 192,
     "metadata": {},
     "output_type": "execute_result"
    }
   ],
   "source": [
    "tensor_stack"
   ]
  },
  {
   "cell_type": "code",
   "execution_count": 205,
   "id": "e5319e20",
   "metadata": {},
   "outputs": [
    {
     "data": {
      "text/plain": [
       "tensor([[[[[0.0809, 0.9738, 0.5469, 0.7175, 0.6700, 0.9263, 0.2051, 0.9990]]]]])"
      ]
     },
     "execution_count": 205,
     "metadata": {},
     "output_type": "execute_result"
    }
   ],
   "source": [
    "y = torch.rand(1,1,1,1,8)\n",
    "y"
   ]
  },
  {
   "cell_type": "code",
   "execution_count": 209,
   "id": "ece2e805",
   "metadata": {},
   "outputs": [
    {
     "data": {
      "text/plain": [
       "tensor([0.0809, 0.9738, 0.5469, 0.7175, 0.6700, 0.9263, 0.2051, 0.9990])"
      ]
     },
     "execution_count": 209,
     "metadata": {},
     "output_type": "execute_result"
    }
   ],
   "source": [
    "y = y.squeeze() # removing all single dimensions from a tensor \n",
    "y"
   ]
  },
  {
   "cell_type": "code",
   "execution_count": 213,
   "id": "1359ff48",
   "metadata": {},
   "outputs": [
    {
     "data": {
      "text/plain": [
       "tensor([[0.0809, 0.9738, 0.5469, 0.7175, 0.6700, 0.9263, 0.2051, 0.9990]])"
      ]
     },
     "execution_count": 213,
     "metadata": {},
     "output_type": "execute_result"
    }
   ],
   "source": [
    "y.unsqueeze(dim=0)"
   ]
  },
  {
   "cell_type": "markdown",
   "id": "a0cd88bc",
   "metadata": {},
   "source": [
    "## Slicing tensors "
   ]
  },
  {
   "cell_type": "code",
   "execution_count": 216,
   "id": "33b82d03",
   "metadata": {},
   "outputs": [
    {
     "data": {
      "text/plain": [
       "tensor([[0.4227, 0.7020, 0.5319, 0.9453, 0.5285, 0.7403],\n",
       "        [0.9422, 0.3503, 0.6180, 0.6052, 0.1961, 0.8165],\n",
       "        [0.3005, 0.8079, 0.6313, 0.6338, 0.9357, 0.3574],\n",
       "        [0.6502, 0.4510, 0.9120, 0.5145, 0.0500, 0.4572]])"
      ]
     },
     "execution_count": 216,
     "metadata": {},
     "output_type": "execute_result"
    }
   ],
   "source": [
    "tensor = torch.rand(size=(4,6))\n",
    "tensor"
   ]
  },
  {
   "cell_type": "code",
   "execution_count": 217,
   "id": "eea44c9d",
   "metadata": {},
   "outputs": [
    {
     "data": {
      "text/plain": [
       "tensor([0.7020, 0.3503, 0.8079, 0.4510])"
      ]
     },
     "execution_count": 217,
     "metadata": {},
     "output_type": "execute_result"
    }
   ],
   "source": [
    "tensor[:,1] # first value from all the rows  "
   ]
  },
  {
   "cell_type": "code",
   "execution_count": 219,
   "id": "771ad3b7",
   "metadata": {},
   "outputs": [
    {
     "data": {
      "text/plain": [
       "tensor([0.4227, 0.7020, 0.5319, 0.9453, 0.5285, 0.7403])"
      ]
     },
     "execution_count": 219,
     "metadata": {},
     "output_type": "execute_result"
    }
   ],
   "source": [
    "tensor[0,:] # all the values from zeroth row "
   ]
  },
  {
   "cell_type": "code",
   "execution_count": 220,
   "id": "a04735be",
   "metadata": {},
   "outputs": [
    {
     "data": {
      "text/plain": [
       "tensor(0.5285)"
      ]
     },
     "execution_count": 220,
     "metadata": {},
     "output_type": "execute_result"
    }
   ],
   "source": [
    "tensor[0,4]"
   ]
  },
  {
   "cell_type": "code",
   "execution_count": 222,
   "id": "15db9521",
   "metadata": {},
   "outputs": [
    {
     "data": {
      "text/plain": [
       "tensor([[[0.9463, 0.8097, 0.2704, 0.3558, 0.0428],\n",
       "         [0.6720, 0.8350, 0.7866, 0.2592, 0.9121],\n",
       "         [0.2627, 0.8511, 0.6653, 0.8152, 0.3332]],\n",
       "\n",
       "        [[0.4234, 0.3227, 0.8205, 0.1982, 0.0515],\n",
       "         [0.0159, 0.2152, 0.0089, 0.6064, 0.5441],\n",
       "         [0.5619, 0.4142, 0.1019, 0.6506, 0.0675]]])"
      ]
     },
     "execution_count": 222,
     "metadata": {},
     "output_type": "execute_result"
    }
   ],
   "source": [
    "tensor = torch.rand(size= (2,3,5))\n",
    "tensor"
   ]
  },
  {
   "cell_type": "code",
   "execution_count": 232,
   "id": "bc74b99e",
   "metadata": {},
   "outputs": [
    {
     "data": {
      "text/plain": [
       "tensor([[0.8097, 0.8350, 0.8511],\n",
       "        [0.3227, 0.2152, 0.4142]])"
      ]
     },
     "execution_count": 232,
     "metadata": {},
     "output_type": "execute_result"
    }
   ],
   "source": [
    "tensor[:,:,1] # all the items, all the rows but only first column "
   ]
  },
  {
   "cell_type": "markdown",
   "id": "6cf41793",
   "metadata": {},
   "source": [
    "## Numpy array Conversion "
   ]
  },
  {
   "cell_type": "code",
   "execution_count": 233,
   "id": "61d9e265",
   "metadata": {},
   "outputs": [
    {
     "data": {
      "text/plain": [
       "tensor([1, 3, 5, 0], dtype=torch.int32)"
      ]
     },
     "execution_count": 233,
     "metadata": {},
     "output_type": "execute_result"
    }
   ],
   "source": [
    "torch.from_numpy(np.array([1,3,5,0]))"
   ]
  },
  {
   "cell_type": "code",
   "execution_count": 235,
   "id": "c28a6f8d",
   "metadata": {},
   "outputs": [
    {
     "data": {
      "text/plain": [
       "array([0, 5, 5, 3, 5, 0], dtype=int64)"
      ]
     },
     "execution_count": 235,
     "metadata": {},
     "output_type": "execute_result"
    }
   ],
   "source": [
    "torch_tensor = torch.tensor([0,5,5,3,5,0])\n",
    "torch_tensor.numpy()"
   ]
  },
  {
   "cell_type": "markdown",
   "id": "a93899a6",
   "metadata": {},
   "source": [
    "##  Creating random seed "
   ]
  },
  {
   "cell_type": "code",
   "execution_count": 238,
   "id": "e98efc0e",
   "metadata": {},
   "outputs": [
    {
     "data": {
      "text/plain": [
       "<torch._C.Generator at 0x1edd422c030>"
      ]
     },
     "execution_count": 238,
     "metadata": {},
     "output_type": "execute_result"
    }
   ],
   "source": [
    "torch.manual_seed(seed=19)"
   ]
  },
  {
   "cell_type": "markdown",
   "id": "701799af",
   "metadata": {},
   "source": [
    "## Setting device type"
   ]
  },
  {
   "cell_type": "code",
   "execution_count": 2,
   "id": "c4707bf0",
   "metadata": {},
   "outputs": [
    {
     "data": {
      "text/plain": [
       "'cpu'"
      ]
     },
     "execution_count": 2,
     "metadata": {},
     "output_type": "execute_result"
    }
   ],
   "source": [
    "device = \"cuda\" if torch.cuda.is_available() else \"cpu\"\n",
    "device"
   ]
  },
  {
   "cell_type": "code",
   "execution_count": null,
   "id": "d31a0cf7",
   "metadata": {},
   "outputs": [],
   "source": []
  }
 ],
 "metadata": {
  "kernelspec": {
   "display_name": "Python 3",
   "language": "python",
   "name": "python3"
  },
  "language_info": {
   "codemirror_mode": {
    "name": "ipython",
    "version": 3
   },
   "file_extension": ".py",
   "mimetype": "text/x-python",
   "name": "python",
   "nbconvert_exporter": "python",
   "pygments_lexer": "ipython3",
   "version": "3.10.4"
  },
  "vscode": {
   "interpreter": {
    "hash": "3ad933181bd8a04b432d3370b9dc3b0662ad032c4dfaa4e4f1596c548f763858"
   }
  }
 },
 "nbformat": 4,
 "nbformat_minor": 5
}
