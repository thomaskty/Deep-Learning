{
 "cells": [
  {
   "cell_type": "code",
   "execution_count": 5,
   "id": "36daa5e0-3563-49e5-906b-08b90142f6e5",
   "metadata": {},
   "outputs": [],
   "source": [
    "import torch "
   ]
  },
  {
   "cell_type": "code",
   "execution_count": 6,
   "id": "676e34d3-05e8-455c-a8bf-667567f9cece",
   "metadata": {},
   "outputs": [],
   "source": [
    "a = torch.tensor([5.],requires_grad = True)\n",
    "b = torch.tensor([6.],requires_grad = True) "
   ]
  },
  {
   "cell_type": "code",
   "execution_count": 7,
   "id": "30240374-e6ab-424c-8286-aaf727139880",
   "metadata": {},
   "outputs": [
    {
     "data": {
      "text/plain": [
       "tensor([89.], grad_fn=<SubBackward0>)"
      ]
     },
     "execution_count": 7,
     "metadata": {},
     "output_type": "execute_result"
    }
   ],
   "source": [
    "y = a**3-b**2   # 3a**2+2b \n",
    "y "
   ]
  },
  {
   "cell_type": "code",
   "execution_count": 8,
   "id": "0daf7e1a-20ec-4030-a3f6-d28c67d4ad98",
   "metadata": {},
   "outputs": [],
   "source": [
    "#dy/da  = 3a**2  ==> 3*25 ==> 75 \n",
    "# dy/db = -2a   ==> -2*6 ==> -12 "
   ]
  },
  {
   "cell_type": "code",
   "execution_count": 9,
   "id": "a10aab48-1640-4f4e-9191-14870feba45e",
   "metadata": {},
   "outputs": [
    {
     "data": {
      "text/plain": [
       "(None, None)"
      ]
     },
     "execution_count": 9,
     "metadata": {},
     "output_type": "execute_result"
    }
   ],
   "source": [
    "a.grad,b.grad"
   ]
  },
  {
   "cell_type": "code",
   "execution_count": 10,
   "id": "b889ffb8-6f79-43bf-9389-e5eadc292588",
   "metadata": {},
   "outputs": [],
   "source": [
    "y.backward()"
   ]
  },
  {
   "cell_type": "code",
   "execution_count": 11,
   "id": "662c8d03-ff4a-4e05-9d06-a10234fa9b44",
   "metadata": {},
   "outputs": [
    {
     "data": {
      "text/plain": [
       "tensor([75.])"
      ]
     },
     "execution_count": 11,
     "metadata": {},
     "output_type": "execute_result"
    }
   ],
   "source": [
    "a.grad"
   ]
  },
  {
   "cell_type": "code",
   "execution_count": 13,
   "id": "55e13a62-8523-4c38-80d3-3576cce98173",
   "metadata": {},
   "outputs": [
    {
     "data": {
      "text/plain": [
       "tensor([-12.])"
      ]
     },
     "execution_count": 13,
     "metadata": {},
     "output_type": "execute_result"
    }
   ],
   "source": [
    "b.grad "
   ]
  },
  {
   "cell_type": "code",
   "execution_count": 14,
   "id": "5bb92341-99f3-4b16-9b2f-054ef7b6e37f",
   "metadata": {},
   "outputs": [],
   "source": [
    "W = torch.randn(10,1,requires_grad = True)\n",
    "b = torch.randn(1,requires_grad = True)"
   ]
  },
  {
   "cell_type": "code",
   "execution_count": 16,
   "id": "ac4968f2-bf23-4a46-8290-06637a5c28c6",
   "metadata": {},
   "outputs": [
    {
     "data": {
      "text/plain": [
       "tensor([[-0.0032],\n",
       "        [-1.0623],\n",
       "        [ 1.4467],\n",
       "        [ 0.3075],\n",
       "        [-0.1497],\n",
       "        [ 1.6410],\n",
       "        [ 0.0495],\n",
       "        [-1.5697],\n",
       "        [-0.9127],\n",
       "        [-0.8190]], requires_grad=True)"
      ]
     },
     "execution_count": 16,
     "metadata": {},
     "output_type": "execute_result"
    }
   ],
   "source": [
    "W "
   ]
  },
  {
   "cell_type": "code",
   "execution_count": 17,
   "id": "3cae7615-df9d-4b2d-9171-35db4c831d85",
   "metadata": {},
   "outputs": [
    {
     "data": {
      "text/plain": [
       "tensor([-0.5410], requires_grad=True)"
      ]
     },
     "execution_count": 17,
     "metadata": {},
     "output_type": "execute_result"
    }
   ],
   "source": [
    "b "
   ]
  },
  {
   "cell_type": "code",
   "execution_count": 18,
   "id": "437c9448-b35f-4ebc-af99-1916ab097508",
   "metadata": {},
   "outputs": [
    {
     "data": {
      "text/plain": [
       "tensor([[0.8916, 0.9958, 0.0325, 0.8517, 0.9184, 0.2756, 0.1850, 0.8500, 0.0706,\n",
       "         0.6013]])"
      ]
     },
     "execution_count": 18,
     "metadata": {},
     "output_type": "execute_result"
    }
   ],
   "source": [
    "x = torch.rand(1,10)\n",
    "x  # one sample with many feaures (10)"
   ]
  },
  {
   "cell_type": "code",
   "execution_count": 19,
   "id": "58c20b9f-995c-4b67-8d46-514ab868260e",
   "metadata": {},
   "outputs": [],
   "source": [
    "output = torch.matmul(x,W)+b"
   ]
  },
  {
   "cell_type": "code",
   "execution_count": 20,
   "id": "fa87b139-f0b3-4abb-8277-881b65c14db5",
   "metadata": {},
   "outputs": [
    {
     "data": {
      "text/plain": [
       "tensor([[-2.8598]], grad_fn=<AddBackward0>)"
      ]
     },
     "execution_count": 20,
     "metadata": {},
     "output_type": "execute_result"
    }
   ],
   "source": [
    "output "
   ]
  },
  {
   "cell_type": "code",
   "execution_count": 21,
   "id": "d4cccaf2-cbcd-4c86-8c69-5608eea00444",
   "metadata": {},
   "outputs": [],
   "source": [
    "loss = 1-output "
   ]
  },
  {
   "cell_type": "code",
   "execution_count": 22,
   "id": "b0ce73df-2ead-44b3-8d0c-aad4e2011cda",
   "metadata": {},
   "outputs": [
    {
     "data": {
      "text/plain": [
       "tensor([[3.8598]], grad_fn=<RsubBackward1>)"
      ]
     },
     "execution_count": 22,
     "metadata": {},
     "output_type": "execute_result"
    }
   ],
   "source": [
    "loss"
   ]
  },
  {
   "cell_type": "code",
   "execution_count": 23,
   "id": "ad5819a7-0e1b-4a20-94e7-0b6ece5ce50b",
   "metadata": {},
   "outputs": [],
   "source": [
    "loss.backward()"
   ]
  },
  {
   "cell_type": "code",
   "execution_count": 24,
   "id": "a1b0e37b-fee9-49d8-b7b5-d10c885a83fb",
   "metadata": {},
   "outputs": [
    {
     "data": {
      "text/plain": [
       "tensor([[-0.8916],\n",
       "        [-0.9958],\n",
       "        [-0.0325],\n",
       "        [-0.8517],\n",
       "        [-0.9184],\n",
       "        [-0.2756],\n",
       "        [-0.1850],\n",
       "        [-0.8500],\n",
       "        [-0.0706],\n",
       "        [-0.6013]])"
      ]
     },
     "execution_count": 24,
     "metadata": {},
     "output_type": "execute_result"
    }
   ],
   "source": [
    "W.grad "
   ]
  },
  {
   "cell_type": "code",
   "execution_count": 25,
   "id": "3055604d-83b5-4809-a704-2a7ee784a856",
   "metadata": {},
   "outputs": [
    {
     "data": {
      "text/plain": [
       "tensor([-1.])"
      ]
     },
     "execution_count": 25,
     "metadata": {},
     "output_type": "execute_result"
    }
   ],
   "source": [
    "b.grad"
   ]
  },
  {
   "cell_type": "code",
   "execution_count": 26,
   "id": "7a06498d-6701-46cd-807c-0389c61e6a2b",
   "metadata": {},
   "outputs": [],
   "source": [
    "# here i dont want to keep the gradient but just the update \n",
    "learning_rate = 0.01\n",
    "with torch.no_grad():\n",
    "    W = W-learning_rate*W.grad.data"
   ]
  },
  {
   "cell_type": "code",
   "execution_count": 27,
   "id": "ac1ef9c9-2160-4930-8ec8-ce03d6898b00",
   "metadata": {},
   "outputs": [
    {
     "data": {
      "text/plain": [
       "tensor([[ 0.0058],\n",
       "        [-1.0523],\n",
       "        [ 1.4471],\n",
       "        [ 0.3160],\n",
       "        [-0.1405],\n",
       "        [ 1.6437],\n",
       "        [ 0.0514],\n",
       "        [-1.5612],\n",
       "        [-0.9120],\n",
       "        [-0.8130]])"
      ]
     },
     "execution_count": 27,
     "metadata": {},
     "output_type": "execute_result"
    }
   ],
   "source": [
    "W # new updated weights "
   ]
  },
  {
   "cell_type": "code",
   "execution_count": 28,
   "id": "b7f61ff5",
   "metadata": {},
   "outputs": [
    {
     "data": {
      "text/plain": [
       "tensor([-0.5410], requires_grad=True)"
      ]
     },
     "execution_count": 28,
     "metadata": {},
     "output_type": "execute_result"
    }
   ],
   "source": [
    "b"
   ]
  },
  {
   "cell_type": "code",
   "execution_count": 30,
   "id": "e1626081-37f4-4d92-895b-e4f1b5151bdd",
   "metadata": {},
   "outputs": [],
   "source": [
    "with torch.no_grad():\n",
    "    b = b-learning_rate*b.grad.data"
   ]
  },
  {
   "cell_type": "code",
   "execution_count": 31,
   "id": "f0a56555",
   "metadata": {},
   "outputs": [
    {
     "data": {
      "text/plain": [
       "tensor([-0.5310])"
      ]
     },
     "execution_count": 31,
     "metadata": {},
     "output_type": "execute_result"
    }
   ],
   "source": [
    "b"
   ]
  },
  {
   "cell_type": "code",
   "execution_count": 75,
   "id": "d59df182",
   "metadata": {},
   "outputs": [],
   "source": [
    "BATCH_SIZE = 2\n",
    "DIM_IN = 10 \n",
    "HIDDEN_SIZE = 5\n",
    "DIM_OUT = 3  \n",
    "\n",
    "class Model(torch.nn.Module):\n",
    "    def __init__(self, dim_in,dim_out,dim_hidden):\n",
    "        super(Model, self).__init__() \n",
    "        self.layer1 = torch.nn.Linear(dim_in, dim_hidden)\n",
    "        self.relu = torch.nn.ReLU()\n",
    "        self.layer2 = torch.nn.Linear(dim_hidden, dim_out)\n",
    "    \n",
    "    def forward(self, x):\n",
    "        x = self.layer1(x)\n",
    "        x = self.relu(x)\n",
    "        x = self.layer2(x)\n",
    "        return x"
   ]
  },
  {
   "cell_type": "code",
   "execution_count": 76,
   "id": "240bd129",
   "metadata": {},
   "outputs": [
    {
     "data": {
      "text/plain": [
       "tensor([[ 1.5598, -0.0166,  1.2922, -0.0209,  0.6523,  1.2460, -0.2688,  1.0066,\n",
       "          0.9079, -1.3793],\n",
       "        [ 0.6410,  0.1106, -1.1726,  0.1430,  1.0778,  0.0864, -0.6228,  0.3312,\n",
       "          0.4596, -1.6956]])"
      ]
     },
     "execution_count": 76,
     "metadata": {},
     "output_type": "execute_result"
    }
   ],
   "source": [
    "model_input = torch.randn(size = (BATCH_SIZE,DIM_IN))\n",
    "model_input"
   ]
  },
  {
   "cell_type": "code",
   "execution_count": 77,
   "id": "016c6257",
   "metadata": {},
   "outputs": [],
   "source": [
    "model = Model(DIM_IN,DIM_OUT,HIDDEN_SIZE)  "
   ]
  },
  {
   "cell_type": "code",
   "execution_count": 78,
   "id": "f1caf239",
   "metadata": {},
   "outputs": [],
   "source": [
    "prediction = model(model_input)"
   ]
  },
  {
   "cell_type": "code",
   "execution_count": 79,
   "id": "3ee416dc",
   "metadata": {},
   "outputs": [
    {
     "data": {
      "text/plain": [
       "OrderedDict([('layer1.weight',\n",
       "              tensor([[-0.2084, -0.1310,  0.2878,  0.1474,  0.0647, -0.0296,  0.1016, -0.0133,\n",
       "                       -0.0402, -0.1438],\n",
       "                      [ 0.2922,  0.2071, -0.2646,  0.1377, -0.0151,  0.2158,  0.0112,  0.0149,\n",
       "                        0.2160, -0.0894],\n",
       "                      [ 0.1052,  0.0814,  0.2695, -0.2531, -0.2298,  0.2054,  0.2583,  0.2278,\n",
       "                       -0.2680,  0.2735],\n",
       "                      [-0.2584,  0.2315, -0.0289, -0.1030,  0.1270, -0.1713,  0.1713, -0.1416,\n",
       "                        0.1172,  0.1681],\n",
       "                      [ 0.3119,  0.1895,  0.3134, -0.1926,  0.3028,  0.2430, -0.0471, -0.2896,\n",
       "                        0.2088,  0.2478]])),\n",
       "             ('layer1.bias', tensor([0.1538, 0.2298, 0.2887, 0.0395, 0.2933])),\n",
       "             ('layer2.weight',\n",
       "              tensor([[-0.2452, -0.2386,  0.1864, -0.1999,  0.4027],\n",
       "                      [ 0.1814, -0.3270, -0.2416,  0.0841,  0.3197],\n",
       "                      [-0.0327, -0.0166,  0.2494,  0.2550,  0.1666]])),\n",
       "             ('layer2.bias', tensor([ 0.2797, -0.1518,  0.4224]))])"
      ]
     },
     "execution_count": 79,
     "metadata": {},
     "output_type": "execute_result"
    }
   ],
   "source": [
    "model.state_dict()"
   ]
  },
  {
   "cell_type": "code",
   "execution_count": 80,
   "id": "ace7d5fd",
   "metadata": {},
   "outputs": [
    {
     "data": {
      "text/plain": [
       "tensor([[ 0.5676, -0.1037,  0.7177],\n",
       "        [ 0.0666, -0.4615,  0.4180]], grad_fn=<AddmmBackward0>)"
      ]
     },
     "execution_count": 80,
     "metadata": {},
     "output_type": "execute_result"
    }
   ],
   "source": [
    "prediction"
   ]
  },
  {
   "cell_type": "code",
   "execution_count": 84,
   "id": "88632bb7",
   "metadata": {},
   "outputs": [],
   "source": [
    "actual_target = torch.tensor(\n",
    "    [[-0.4817,  0.7800, -0.1737],\n",
    "    [ 1.1430, -0.3604,  0.4867]],\n",
    "    requires_grad=False)"
   ]
  },
  {
   "cell_type": "code",
   "execution_count": 85,
   "id": "28ae3176",
   "metadata": {},
   "outputs": [],
   "source": [
    "optimizer = torch.optim.SGD(model.parameters(), lr=0.001)"
   ]
  },
  {
   "cell_type": "code",
   "execution_count": 86,
   "id": "0ebcc21b",
   "metadata": {},
   "outputs": [
    {
     "name": "stdout",
     "output_type": "stream",
     "text": [
      "tensor(3.8502, grad_fn=<SumBackward0>)\n"
     ]
    }
   ],
   "source": [
    "loss = (actual_target - prediction).pow(2).sum()\n",
    "print(loss)"
   ]
  },
  {
   "cell_type": "code",
   "execution_count": 87,
   "id": "c6c40405",
   "metadata": {},
   "outputs": [],
   "source": [
    "loss.backward()"
   ]
  },
  {
   "cell_type": "code",
   "execution_count": 88,
   "id": "4f900be5",
   "metadata": {},
   "outputs": [
    {
     "name": "stdout",
     "output_type": "stream",
     "text": [
      "Parameter containing:\n",
      "tensor([[-0.2452, -0.2386,  0.1864, -0.1999,  0.4027],\n",
      "        [ 0.1814, -0.3270, -0.2416,  0.0841,  0.3197],\n",
      "        [-0.0327, -0.0166,  0.2494,  0.2550,  0.1666]], requires_grad=True)\n",
      "tensor([[ 0.6846, -0.2510,  0.9453,  0.0000,  2.4705],\n",
      "        [-0.5765, -1.8465, -0.7961,  0.0000, -2.2332],\n",
      "        [ 0.5815,  1.5141,  0.8030,  0.0000,  2.2268]])\n"
     ]
    }
   ],
   "source": [
    "print(model.layer2.weight)\n",
    "print(model.layer2.weight.grad)"
   ]
  },
  {
   "cell_type": "code",
   "execution_count": 89,
   "id": "80fae149",
   "metadata": {},
   "outputs": [],
   "source": [
    "optimizer.step()"
   ]
  },
  {
   "cell_type": "code",
   "execution_count": 90,
   "id": "1d70a5f0",
   "metadata": {},
   "outputs": [
    {
     "name": "stdout",
     "output_type": "stream",
     "text": [
      "Parameter containing:\n",
      "tensor([[-0.2459, -0.2383,  0.1854, -0.1999,  0.4002],\n",
      "        [ 0.1820, -0.3251, -0.2408,  0.0841,  0.3219],\n",
      "        [-0.0333, -0.0181,  0.2486,  0.2550,  0.1643]], requires_grad=True)\n",
      "tensor([[ 0.6846, -0.2510,  0.9453,  0.0000,  2.4705],\n",
      "        [-0.5765, -1.8465, -0.7961,  0.0000, -2.2332],\n",
      "        [ 0.5815,  1.5141,  0.8030,  0.0000,  2.2268]])\n"
     ]
    }
   ],
   "source": [
    "print(model.layer2.weight)\n",
    "print(model.layer2.weight.grad)"
   ]
  },
  {
   "cell_type": "code",
   "execution_count": 91,
   "id": "3c546e1c",
   "metadata": {},
   "outputs": [],
   "source": [
    "optimizer.zero_grad()"
   ]
  },
  {
   "cell_type": "code",
   "execution_count": 92,
   "id": "0c895a49",
   "metadata": {},
   "outputs": [
    {
     "name": "stdout",
     "output_type": "stream",
     "text": [
      "tensor([[0., 0., 0., 0., 0.],\n",
      "        [0., 0., 0., 0., 0.],\n",
      "        [0., 0., 0., 0., 0.]])\n"
     ]
    }
   ],
   "source": [
    "print(model.layer2.weight.grad)"
   ]
  },
  {
   "cell_type": "code",
   "execution_count": 93,
   "id": "7178a456",
   "metadata": {},
   "outputs": [
    {
     "name": "stdout",
     "output_type": "stream",
     "text": [
      "tensor([0.5795, 0.5769, 0.1023, 0.1539, 0.0381], requires_grad=True)\n",
      "tensor([0.5795, 0.5769, 0.1023, 0.1539, 0.0381])\n"
     ]
    }
   ],
   "source": [
    "x = torch.rand(5, requires_grad=True)\n",
    "y = x.detach()\n",
    "\n",
    "print(x)\n",
    "print(y)"
   ]
  },
  {
   "cell_type": "code",
   "execution_count": null,
   "id": "81e30ba5",
   "metadata": {},
   "outputs": [],
   "source": []
  }
 ],
 "metadata": {
  "kernelspec": {
   "display_name": "Python 3 (ipykernel)",
   "language": "python",
   "name": "python3"
  },
  "language_info": {
   "codemirror_mode": {
    "name": "ipython",
    "version": 3
   },
   "file_extension": ".py",
   "mimetype": "text/x-python",
   "name": "python",
   "nbconvert_exporter": "python",
   "pygments_lexer": "ipython3",
   "version": "3.10.9"
  },
  "vscode": {
   "interpreter": {
    "hash": "ca9c90c9b299e3c35d28bc96236d8f2c0bd3d51256cb5ad616950692d4a1a879"
   }
  }
 },
 "nbformat": 4,
 "nbformat_minor": 5
}
